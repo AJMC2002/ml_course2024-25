





get_ipython().run_line_magic("matplotlib", " inline")
import pandas as pd
import numpy as np
from matplotlib import pyplot as plt
import seaborn as sns
from sklearn.model_selection import train_test_split, KFold, cross_val_score
from sklearn.neighbors import KNeighborsClassifier
from sklearn.metrics import classification_report, confusion_matrix, f1_score
from sklearn.preprocessing import scale


df = pd.read_csv('../data/amazon.csv.gz')
df.head()
# ACTION - это целевой признак





print(df['ACTION'].mean())
sns.countplot('ACTION', data=df)


# число значений у признаков
for col_name in df.columns:
    print(col_name, len(df[col_name].unique()))


X = df.drop(['ACTION'], axis=1)
y = df['ACTION']
X_train, X_test, y_train, y_test = train_test_split(X, y, random_state=42, test_size=0.8)





knn = KNeighborsClassifier(n_neighbors=5, p=2)

knn.fit(X_train, y_train)

y_pred = knn.predict(X_test)

print(classification_report(y_test, y_pred))

cm = confusion_matrix(y_test, y_pred)

plt.figure(figsize=(8, 6))
sns.heatmap(cm, annot=True, fmt='d', cmap='Blues', xticklabels=['0', '1'], yticklabels=['0', '1'])
plt.xlabel('Predicted')
plt.ylabel('Actual')
plt.title('Confusion Matrix')
plt.show()





p_values = [1, 2, 4, 6]
n_neighbors = 10

results = {}

for p in p_values:
    knn = KNeighborsClassifier(n_neighbors=n_neighbors, p=p)
    scores = cross_val_score(knn, X_train, y_train, cv=5, scoring='f1')  # Используем F1-score как метрику
    mean_score = np.mean(scores)
    std_score = np.std(scores)
    results[p] = (mean_score, std_score)
    print(f"p={p}: Mean F1-score = {mean_score:.4f}, Std deviation = {std_score:.4f}")

best_p = max(results, key=lambda k: results[k][0])
print(f"\nНаибольшее среднее значение F1-score достигается при p={best_p}")








data = pd.DataFrame(index=df.index)

def calculate_counters(df, col_name, target, n_folds=3):
    kf = KFold(n_splits=n_folds, shuffle=True, random_state=42)
    
    counts = np.zeros(len(df))
    successes = np.zeros(len(df))
    smoothed_ratio = np.zeros(len(df))
    
    for train_idx, val_idx in kf.split(df):
        train_fold = df.iloc[train_idx]
        val_fold = df.iloc[val_idx]
        
        aggregates = train_fold.groupby(col_name)[target].agg(['sum', 'count'])
        
        counts[val_idx] = val_fold[col_name].map(aggregates['count']).fillna(0)
        successes[val_idx] = val_fold[col_name].map(aggregates['sum']).fillna(0)
        smoothed_ratio[val_idx] = (successes[val_idx] + 1) / (counts[val_idx] + 2)
    
    return counts, successes, smoothed_ratio

for col_name in df.columns:
    if col_name == 'ACTION':
        continue
    counts, successes, smoothed_ratio = calculate_counters(df, col_name, 'ACTION')
    
    data[f'{col_name}_counts'] = counts
    data[f'{col_name}_successes'] = successes
    data[f'{col_name}_smoothed_ratio'] = smoothed_ratio

X_train_new, X_test_new, y_train_new, y_test_new = train_test_split(
    data.loc[X_train.index], y_train, random_state=42, test_size=0.8
)














df_combo = df.copy()
# ТУТ ВАШ КОД


data_combo = pd.DataFrame(index=df_combo.index)
for col_name in df_combo.columns:
    if col_name == 'ACTION':
        continue
    # тут ваш код








df_target = df.copy()


data_target = pd.DataFrame(index=df_target.index)
for col_name in df_target.columns:
    if col_name == 'ACTION':
        continue
    # тут ваш код



