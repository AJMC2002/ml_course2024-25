





from sklearn.datasets import fetch_20newsgroups
newsgroups_train = fetch_20newsgroups(subset='train', remove=('headers', 'footers', 'quotes'))
newsgroups_train.target_names





from sklearn.datasets import fetch_20newsgroups

categories = ['alt.atheism', 'sci.space', 'talk.religion.misc', 'comp.graphics']

newsgroups_train = fetch_20newsgroups(subset='train', categories=categories, remove=('headers', 'footers', 'quotes'))

newsgroups_test = fetch_20newsgroups(subset='test', categories=categories, remove=('headers', 'footers', 'quotes'))





for category in categories:
    index = next(i for i, target in enumerate(newsgroups_train.target) if newsgroups_train.target_names[target] == category)
    print(f"Category: {category}")
    print("Text:")
    print(newsgroups_train.data[index])
    print("-" * 80)





from sklearn.feature_extraction.text import CountVectorizer

vectorizer = CountVectorizer(stop_words='english')

X_train = vectorizer.fit_transform(newsgroups_train.data)
X_test = vectorizer.transform(newsgroups_test.data)

vocab_size = len(vectorizer.vocabulary_)

print(f"Размер словаря: {vocab_size}")





from sklearn.naive_bayes import MultinomialNB
from sklearn.model_selection import cross_val_score
from sklearn.metrics import confusion_matrix, classification_report, ConfusionMatrixDisplay
import matplotlib.pyplot as plt

clf = MultinomialNB()

cv_scores = cross_val_score(clf, X_train, newsgroups_train.target, cv=5, scoring='accuracy')
print(f"Cross-validation scores: {cv_scores}")
print(f"Mean CV accuracy: {cv_scores.mean():.4f}")


clf.fit(X_train, newsgroups_train.target)

y_pred = clf.predict(X_test)

cm = confusion_matrix(newsgroups_test.target, y_pred)
disp = ConfusionMatrixDisplay(confusion_matrix=cm, display_labels=newsgroups_train.target_names)
disp.plot(xticks_rotation=45, cmap=plt.cm.Blues)
plt.title("Confusion Matrix")
plt.show()


report = classification_report(newsgroups_test.target, y_pred, target_names=newsgroups_train.target_names)
print("Classification Report:")
print(report)


import numpy as np

# Посмотрим на ТОП 10 по важности слова в каждой категории

def show_top10(classifier, vectorizer, categories):
    feature_names = np.asarray(vectorizer.get_feature_names_out())
    for i, category in enumerate(categories):
        top10 = np.argsort(classifier.feature_log_prob_[i])[-10:]
        print("%s: [%s]" % (category, " ".join(feature_names[top10])))

show_top10(clf, vectorizer, newsgroups_train.target_names)








from sklearn.feature_extraction.text import TfidfVectorizer

vectorizer = TfidfVectorizer(stop_words='english')

X_train_tfidf = vectorizer.fit_transform(newsgroups_train.data)
X_test_tfidf = vectorizer.transform(newsgroups_test.data)

clf = MultinomialNB()

cv_scores = cross_val_score(clf, X_train_tfidf, newsgroups_train.target, cv=5, scoring='accuracy')
print(f"Cross-validation scores: {cv_scores}")
print(f"Mean CV accuracy: {cv_scores.mean():.4f}")


clf.fit(X_train_tfidf, newsgroups_train.target)

y_pred = clf.predict(X_test_tfidf)

cm = confusion_matrix(newsgroups_test.target, y_pred)
disp = ConfusionMatrixDisplay(confusion_matrix=cm, display_labels=newsgroups_train.target_names)
disp.plot(xticks_rotation=45, cmap=plt.cm.Blues)
plt.title("Confusion Matrix")
plt.show()


report = classification_report(newsgroups_test.target, y_pred, target_names=newsgroups_train.target_names)
print("Classification Report:")
print(report)


show_top10(clf, vectorizer, newsgroups_train.target_names)












