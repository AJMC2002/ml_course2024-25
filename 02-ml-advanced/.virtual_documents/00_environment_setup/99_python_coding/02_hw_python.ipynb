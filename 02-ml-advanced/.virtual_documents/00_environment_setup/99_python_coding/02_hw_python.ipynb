





import re

def word_count(text):
    word_freq = dict()
    for word in re.split(r'[^\w]', text):
        if len(word) > 1:
            word_freq[word] = word_freq.get(word, 0) + 1
    top10 = sorted(word_freq.items(), key= lambda k_v: k_v[1], reverse=True)[:10]
    return dict(top10)

word_count("aa aa aa bb cc cc A B C a AA")


# Это магия для ввода текста, не трогайте её
# Выполните эту ячейку и увидите поле для ввода текста. 
# Введите текст, нажмите Enter и получите ответ, который вы вычислили в функции выше
from ipywidgets import widgets
text = widgets.Text(placeholder="тут текст")
display(text)
text.on_submit(lambda txt: word_count(txt.value))

# введите число и нажмите enter





def summa(n):
    # тут ваш код.
    # Реализуйте используя цикл
    pass





def summa_recursive(n):
    # тут ваш код.
    # Реализуйте используя рекурсию
    pass








# Ваш код здесь





# Ваш код здесь





from typing import List

class Matrix:
    def __init__(data: List[List[float]]):
        pass
    
    def __add__(self, other):
        """Сложение двух матриц или матрицы и числа
        """
        pass
    
    def __sub__(self, other):
        """Вычитание матриц или матрицы и числа
        """
        pass
    
    def __mul__(self, other):
        """Поточеченое произведение двух матриц или матрицы на число
        """
        pass
    
    def __div__(self, other):
        """Поточечное деление двух матриц или матрицы на число
        """

    
    def __matmul__(selfm other):
        """Матричное произведение двух матриц
        """
        pass

    
    def __neg__(self):
        """Поведение отрицания. Как у числе `a=42; -a`.
        """
        pass
        
    def __abs__(self):
        """Модуль от всех элементов матрицы. Чтобы вызывать abs(-1) == 1 только для матриц.
        """
        pass
    
    def det(self):
        """Определитель матрицы
        """
        pass
    
    def T(self):
        """Транспонирование матрицы
        """
        pass
    
    def inv(self):
        """Посчитать обратную матрицу
        """
        pass





# Воспользуйтесь этим начальным кодом, чтобы реализовать нужный процедуры

def head(pair):
    if pair is None:
        return None
    return pair[0]

def tail(pair):
    if pair is None:
        return None
    if len(pair) < 2:
        return None
    return pair[1]

def Seq(*elements):
    def first(x):
        return x[0]
    def other(x):
        return x[1:]

    if len(elements) == 0:
        return None

    if len(elements) == 1:
        return first(elements), None

    if len(elements) == 2:
        return first(elements), other(elements)

    return first(elements), Seq(*other(elements))

s = Seq(1,2,3,4,5)
s == (1, (2, (3, (4, (5,)))))
head(s) == 1
tail(s) == (2, (3, (4, (5,))))


# тут ваш код и примеры его работы
