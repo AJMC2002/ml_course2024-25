{
 "cells": [
  {
   "cell_type": "markdown",
   "metadata": {
    "id": "jtHanMvu0UtJ"
   },
   "source": [
    "# Решающие деревья\n",
    "\n",
    "![](https://i0.wp.com/dataaspirant.com/wp-content/uploads/2017/01/B03905_05_01-compressor.png?resize=768%2C424)\n",
    "\n",
    "Решающие деревья - алгоритм МО, с помощью которого можно решать задачи классификации и регрессии. Основная идея алгортитма - это поиск условий принятия решений по тренировочным данным. У нас получается такое особое дерево поиска, в котором в узлах вопросы к данным на основе признаков, а в листовых узлах - метки классов. Во время обучения строится это дерево решений, причем так, чтобы оно было максимально эффективным - у него было хорошее качество предсказания и оно не было неоптимальным(слишком глубоким или несбалансированным).\n",
    "\n",
    "## Литература\n",
    "\n",
    "- [Habrahabr: ODS деревья решений](https://habrahabr.ru/company/ods/blog/322534/#derevo-resheniy)\n",
    "- [ВМК МГУ семинары по решающим деревьям](https://github.com/esokolov/ml-course-msu/blob/master/ML16/lecture-notes/Sem04_trees.pdf)\n",
    "- [Sklearn Decision Trees](http://scikit-learn.org/stable/modules/tree.html)"
   ]
  },
  {
   "cell_type": "markdown",
   "metadata": {
    "id": "SgqNHwrBMwJM"
   },
   "source": [
    "### Прежде, чем начать\n",
    "\n",
    "Установите graphviz введя следующие команды в терминал: <p>\n",
    "`sudo apt install graphviz`\n",
    "\n",
    "и \n",
    "`pip3 install graphviz` <p>\n",
    "или `pip install graphviz` если вы используюте pyenv (не забудьте сначала активировать окружение).<p>\n",
    "(в colab всё и так установлено).\n",
    "\n"
   ]
  },
  {
   "cell_type": "code",
   "execution_count": 6,
   "metadata": {},
   "outputs": [
    {
     "name": "stdout",
     "output_type": "stream",
     "text": [
      "Requirement already satisfied: graphviz in /home/le-moski/Documents/FEFU/7S/ML/02-ml-advanced/.venv/lib/python3.10/site-packages (0.20.3)\n"
     ]
    }
   ],
   "source": [
    "!pip install graphviz"
   ]
  },
  {
   "cell_type": "code",
   "execution_count": 7,
   "metadata": {
    "id": "K7RGNdj10UtP"
   },
   "outputs": [],
   "source": [
    "import sys\n",
    "import pandas as pd\n",
    "import numpy as np\n",
    "from matplotlib import pyplot as plt\n",
    "import seaborn as sns\n",
    "from sklearn.tree import DecisionTreeClassifier\n",
    "\n",
    "%matplotlib inline\n",
    "\n",
    "# Зафиксируем случайность, чтобы каждый раз получалось одно и тоже\n",
    "np.random.seed(seed=42)"
   ]
  },
  {
   "cell_type": "markdown",
   "metadata": {
    "id": "dPE94rr00Uuq"
   },
   "source": [
    "## Рассмотрим как строится дерево"
   ]
  },
  {
   "cell_type": "code",
   "execution_count": 8,
   "metadata": {
    "id": "MIgNCxye0Uux"
   },
   "outputs": [],
   "source": [
    "from sklearn.tree import export_graphviz\n",
    "import graphviz"
   ]
  },
  {
   "cell_type": "code",
   "execution_count": 9,
   "metadata": {
    "colab": {
     "base_uri": "https://localhost:8080/",
     "height": 394
    },
    "executionInfo": {
     "elapsed": 13,
     "status": "ok",
     "timestamp": 1639730877587,
     "user": {
      "displayName": "Илья Сиганов",
      "photoUrl": "https://lh3.googleusercontent.com/a/default-user=s64",
      "userId": "11448722471696357981"
     },
     "user_tz": -360
    },
    "id": "aSVIELgi0Uu0",
    "outputId": "000e0aaf-e934-4b6e-fa7c-980b04d8b102"
   },
   "outputs": [
    {
     "data": {
      "text/html": [
       "<div>\n",
       "<style scoped>\n",
       "    .dataframe tbody tr th:only-of-type {\n",
       "        vertical-align: middle;\n",
       "    }\n",
       "\n",
       "    .dataframe tbody tr th {\n",
       "        vertical-align: top;\n",
       "    }\n",
       "\n",
       "    .dataframe thead th {\n",
       "        text-align: right;\n",
       "    }\n",
       "</style>\n",
       "<table border=\"1\" class=\"dataframe\">\n",
       "  <thead>\n",
       "    <tr style=\"text-align: right;\">\n",
       "      <th></th>\n",
       "      <th>Возраст</th>\n",
       "      <th>Невозврат кредита</th>\n",
       "    </tr>\n",
       "  </thead>\n",
       "  <tbody>\n",
       "    <tr>\n",
       "      <th>0</th>\n",
       "      <td>17</td>\n",
       "      <td>1</td>\n",
       "    </tr>\n",
       "    <tr>\n",
       "      <th>2</th>\n",
       "      <td>18</td>\n",
       "      <td>1</td>\n",
       "    </tr>\n",
       "    <tr>\n",
       "      <th>3</th>\n",
       "      <td>20</td>\n",
       "      <td>0</td>\n",
       "    </tr>\n",
       "    <tr>\n",
       "      <th>7</th>\n",
       "      <td>25</td>\n",
       "      <td>1</td>\n",
       "    </tr>\n",
       "    <tr>\n",
       "      <th>8</th>\n",
       "      <td>29</td>\n",
       "      <td>1</td>\n",
       "    </tr>\n",
       "    <tr>\n",
       "      <th>9</th>\n",
       "      <td>31</td>\n",
       "      <td>0</td>\n",
       "    </tr>\n",
       "    <tr>\n",
       "      <th>10</th>\n",
       "      <td>33</td>\n",
       "      <td>1</td>\n",
       "    </tr>\n",
       "    <tr>\n",
       "      <th>4</th>\n",
       "      <td>38</td>\n",
       "      <td>1</td>\n",
       "    </tr>\n",
       "    <tr>\n",
       "      <th>5</th>\n",
       "      <td>49</td>\n",
       "      <td>0</td>\n",
       "    </tr>\n",
       "    <tr>\n",
       "      <th>6</th>\n",
       "      <td>55</td>\n",
       "      <td>0</td>\n",
       "    </tr>\n",
       "    <tr>\n",
       "      <th>1</th>\n",
       "      <td>64</td>\n",
       "      <td>0</td>\n",
       "    </tr>\n",
       "  </tbody>\n",
       "</table>\n",
       "</div>"
      ],
      "text/plain": [
       "    Возраст  Невозврат кредита\n",
       "0        17                  1\n",
       "2        18                  1\n",
       "3        20                  0\n",
       "7        25                  1\n",
       "8        29                  1\n",
       "9        31                  0\n",
       "10       33                  1\n",
       "4        38                  1\n",
       "5        49                  0\n",
       "6        55                  0\n",
       "1        64                  0"
      ]
     },
     "execution_count": 9,
     "metadata": {},
     "output_type": "execute_result"
    }
   ],
   "source": [
    "data = pd.DataFrame({'Возраст': [17,64,18,20,38,49,55,25,29,31,33], \n",
    "             'Невозврат кредита': [1,0,1,0,1,0,0,1,1,0,1]})\n",
    "\n",
    "data.sort_values('Возраст')"
   ]
  },
  {
   "cell_type": "code",
   "execution_count": 10,
   "metadata": {
    "colab": {
     "base_uri": "https://localhost:8080/",
     "height": 796
    },
    "executionInfo": {
     "elapsed": 11,
     "status": "ok",
     "timestamp": 1639730877587,
     "user": {
      "displayName": "Илья Сиганов",
      "photoUrl": "https://lh3.googleusercontent.com/a/default-user=s64",
      "userId": "11448722471696357981"
     },
     "user_tz": -360
    },
    "id": "HPB4Nwzy0tcT",
    "outputId": "c256755e-34d7-4f5e-8b5c-ffd1af08a7fa"
   },
   "outputs": [
    {
     "data": {
      "image/svg+xml": [
       "<?xml version=\"1.0\" encoding=\"UTF-8\" standalone=\"no\"?>\n",
       "<!DOCTYPE svg PUBLIC \"-//W3C//DTD SVG 1.1//EN\"\n",
       " \"http://www.w3.org/Graphics/SVG/1.1/DTD/svg11.dtd\">\n",
       "<!-- Generated by graphviz version 2.43.0 (0)\n",
       " -->\n",
       "<!-- Title: Tree Pages: 1 -->\n",
       "<svg width=\"409pt\" height=\"581pt\"\n",
       " viewBox=\"0.00 0.00 409.00 581.00\" xmlns=\"http://www.w3.org/2000/svg\" xmlns:xlink=\"http://www.w3.org/1999/xlink\">\n",
       "<g id=\"graph0\" class=\"graph\" transform=\"scale(1 1) rotate(0) translate(4 577)\">\n",
       "<title>Tree</title>\n",
       "<polygon fill=\"white\" stroke=\"transparent\" points=\"-4,4 -4,-577 405,-577 405,4 -4,4\"/>\n",
       "<!-- 0 -->\n",
       "<g id=\"node1\" class=\"node\">\n",
       "<title>0</title>\n",
       "<polygon fill=\"#deeffb\" stroke=\"black\" points=\"230.5,-573 112.5,-573 112.5,-505 230.5,-505 230.5,-573\"/>\n",
       "<text text-anchor=\"middle\" x=\"171.5\" y=\"-557.8\" font-family=\"Helvetica,sans-Serif\" font-size=\"14.00\">Возраст &lt;= 43.5</text>\n",
       "<text text-anchor=\"middle\" x=\"171.5\" y=\"-542.8\" font-family=\"Helvetica,sans-Serif\" font-size=\"14.00\">gini = 0.496</text>\n",
       "<text text-anchor=\"middle\" x=\"171.5\" y=\"-527.8\" font-family=\"Helvetica,sans-Serif\" font-size=\"14.00\">samples = 11</text>\n",
       "<text text-anchor=\"middle\" x=\"171.5\" y=\"-512.8\" font-family=\"Helvetica,sans-Serif\" font-size=\"14.00\">value = [5, 6]</text>\n",
       "</g>\n",
       "<!-- 1 -->\n",
       "<g id=\"node2\" class=\"node\">\n",
       "<title>1</title>\n",
       "<polygon fill=\"#7bbeee\" stroke=\"black\" points=\"168.5,-469 50.5,-469 50.5,-401 168.5,-401 168.5,-469\"/>\n",
       "<text text-anchor=\"middle\" x=\"109.5\" y=\"-453.8\" font-family=\"Helvetica,sans-Serif\" font-size=\"14.00\">Возраст &lt;= 19.0</text>\n",
       "<text text-anchor=\"middle\" x=\"109.5\" y=\"-438.8\" font-family=\"Helvetica,sans-Serif\" font-size=\"14.00\">gini = 0.375</text>\n",
       "<text text-anchor=\"middle\" x=\"109.5\" y=\"-423.8\" font-family=\"Helvetica,sans-Serif\" font-size=\"14.00\">samples = 8</text>\n",
       "<text text-anchor=\"middle\" x=\"109.5\" y=\"-408.8\" font-family=\"Helvetica,sans-Serif\" font-size=\"14.00\">value = [2, 6]</text>\n",
       "</g>\n",
       "<!-- 0&#45;&gt;1 -->\n",
       "<g id=\"edge1\" class=\"edge\">\n",
       "<title>0&#45;&gt;1</title>\n",
       "<path fill=\"none\" stroke=\"black\" d=\"M151.37,-504.88C146.17,-496.33 140.51,-487.01 135.07,-478.07\"/>\n",
       "<polygon fill=\"black\" stroke=\"black\" points=\"137.93,-476.03 129.74,-469.3 131.94,-479.66 137.93,-476.03\"/>\n",
       "<text text-anchor=\"middle\" x=\"123.82\" y=\"-489.89\" font-family=\"Helvetica,sans-Serif\" font-size=\"14.00\">True</text>\n",
       "</g>\n",
       "<!-- 10 -->\n",
       "<g id=\"node11\" class=\"node\">\n",
       "<title>10</title>\n",
       "<polygon fill=\"#e58139\" stroke=\"black\" points=\"282,-461.5 187,-461.5 187,-408.5 282,-408.5 282,-461.5\"/>\n",
       "<text text-anchor=\"middle\" x=\"234.5\" y=\"-446.3\" font-family=\"Helvetica,sans-Serif\" font-size=\"14.00\">gini = 0.0</text>\n",
       "<text text-anchor=\"middle\" x=\"234.5\" y=\"-431.3\" font-family=\"Helvetica,sans-Serif\" font-size=\"14.00\">samples = 3</text>\n",
       "<text text-anchor=\"middle\" x=\"234.5\" y=\"-416.3\" font-family=\"Helvetica,sans-Serif\" font-size=\"14.00\">value = [3, 0]</text>\n",
       "</g>\n",
       "<!-- 0&#45;&gt;10 -->\n",
       "<g id=\"edge10\" class=\"edge\">\n",
       "<title>0&#45;&gt;10</title>\n",
       "<path fill=\"none\" stroke=\"black\" d=\"M191.95,-504.88C198.82,-493.78 206.48,-481.37 213.39,-470.18\"/>\n",
       "<polygon fill=\"black\" stroke=\"black\" points=\"216.46,-471.87 218.74,-461.52 210.5,-468.19 216.46,-471.87\"/>\n",
       "<text text-anchor=\"middle\" x=\"224.49\" y=\"-482.15\" font-family=\"Helvetica,sans-Serif\" font-size=\"14.00\">False</text>\n",
       "</g>\n",
       "<!-- 2 -->\n",
       "<g id=\"node3\" class=\"node\">\n",
       "<title>2</title>\n",
       "<polygon fill=\"#399de5\" stroke=\"black\" points=\"95,-357.5 0,-357.5 0,-304.5 95,-304.5 95,-357.5\"/>\n",
       "<text text-anchor=\"middle\" x=\"47.5\" y=\"-342.3\" font-family=\"Helvetica,sans-Serif\" font-size=\"14.00\">gini = 0.0</text>\n",
       "<text text-anchor=\"middle\" x=\"47.5\" y=\"-327.3\" font-family=\"Helvetica,sans-Serif\" font-size=\"14.00\">samples = 2</text>\n",
       "<text text-anchor=\"middle\" x=\"47.5\" y=\"-312.3\" font-family=\"Helvetica,sans-Serif\" font-size=\"14.00\">value = [0, 2]</text>\n",
       "</g>\n",
       "<!-- 1&#45;&gt;2 -->\n",
       "<g id=\"edge2\" class=\"edge\">\n",
       "<title>1&#45;&gt;2</title>\n",
       "<path fill=\"none\" stroke=\"black\" d=\"M89.37,-400.88C82.62,-389.78 75.08,-377.37 68.28,-366.18\"/>\n",
       "<polygon fill=\"black\" stroke=\"black\" points=\"71.2,-364.25 63.01,-357.52 65.22,-367.88 71.2,-364.25\"/>\n",
       "</g>\n",
       "<!-- 3 -->\n",
       "<g id=\"node4\" class=\"node\">\n",
       "<title>3</title>\n",
       "<polygon fill=\"#9ccef2\" stroke=\"black\" points=\"231.5,-365 113.5,-365 113.5,-297 231.5,-297 231.5,-365\"/>\n",
       "<text text-anchor=\"middle\" x=\"172.5\" y=\"-349.8\" font-family=\"Helvetica,sans-Serif\" font-size=\"14.00\">Возраст &lt;= 22.5</text>\n",
       "<text text-anchor=\"middle\" x=\"172.5\" y=\"-334.8\" font-family=\"Helvetica,sans-Serif\" font-size=\"14.00\">gini = 0.444</text>\n",
       "<text text-anchor=\"middle\" x=\"172.5\" y=\"-319.8\" font-family=\"Helvetica,sans-Serif\" font-size=\"14.00\">samples = 6</text>\n",
       "<text text-anchor=\"middle\" x=\"172.5\" y=\"-304.8\" font-family=\"Helvetica,sans-Serif\" font-size=\"14.00\">value = [2, 4]</text>\n",
       "</g>\n",
       "<!-- 1&#45;&gt;3 -->\n",
       "<g id=\"edge3\" class=\"edge\">\n",
       "<title>1&#45;&gt;3</title>\n",
       "<path fill=\"none\" stroke=\"black\" d=\"M129.95,-400.88C135.24,-392.33 140.99,-383.01 146.51,-374.07\"/>\n",
       "<polygon fill=\"black\" stroke=\"black\" points=\"149.66,-375.65 151.93,-365.3 143.7,-371.97 149.66,-375.65\"/>\n",
       "</g>\n",
       "<!-- 4 -->\n",
       "<g id=\"node5\" class=\"node\">\n",
       "<title>4</title>\n",
       "<polygon fill=\"#e58139\" stroke=\"black\" points=\"158,-253.5 63,-253.5 63,-200.5 158,-200.5 158,-253.5\"/>\n",
       "<text text-anchor=\"middle\" x=\"110.5\" y=\"-238.3\" font-family=\"Helvetica,sans-Serif\" font-size=\"14.00\">gini = 0.0</text>\n",
       "<text text-anchor=\"middle\" x=\"110.5\" y=\"-223.3\" font-family=\"Helvetica,sans-Serif\" font-size=\"14.00\">samples = 1</text>\n",
       "<text text-anchor=\"middle\" x=\"110.5\" y=\"-208.3\" font-family=\"Helvetica,sans-Serif\" font-size=\"14.00\">value = [1, 0]</text>\n",
       "</g>\n",
       "<!-- 3&#45;&gt;4 -->\n",
       "<g id=\"edge4\" class=\"edge\">\n",
       "<title>3&#45;&gt;4</title>\n",
       "<path fill=\"none\" stroke=\"black\" d=\"M152.37,-296.88C145.62,-285.78 138.08,-273.37 131.28,-262.18\"/>\n",
       "<polygon fill=\"black\" stroke=\"black\" points=\"134.2,-260.25 126.01,-253.52 128.22,-263.88 134.2,-260.25\"/>\n",
       "</g>\n",
       "<!-- 5 -->\n",
       "<g id=\"node6\" class=\"node\">\n",
       "<title>5</title>\n",
       "<polygon fill=\"#6ab6ec\" stroke=\"black\" points=\"294.5,-261 176.5,-261 176.5,-193 294.5,-193 294.5,-261\"/>\n",
       "<text text-anchor=\"middle\" x=\"235.5\" y=\"-245.8\" font-family=\"Helvetica,sans-Serif\" font-size=\"14.00\">Возраст &lt;= 30.0</text>\n",
       "<text text-anchor=\"middle\" x=\"235.5\" y=\"-230.8\" font-family=\"Helvetica,sans-Serif\" font-size=\"14.00\">gini = 0.32</text>\n",
       "<text text-anchor=\"middle\" x=\"235.5\" y=\"-215.8\" font-family=\"Helvetica,sans-Serif\" font-size=\"14.00\">samples = 5</text>\n",
       "<text text-anchor=\"middle\" x=\"235.5\" y=\"-200.8\" font-family=\"Helvetica,sans-Serif\" font-size=\"14.00\">value = [1, 4]</text>\n",
       "</g>\n",
       "<!-- 3&#45;&gt;5 -->\n",
       "<g id=\"edge5\" class=\"edge\">\n",
       "<title>3&#45;&gt;5</title>\n",
       "<path fill=\"none\" stroke=\"black\" d=\"M192.95,-296.88C198.24,-288.33 203.99,-279.01 209.51,-270.07\"/>\n",
       "<polygon fill=\"black\" stroke=\"black\" points=\"212.66,-271.65 214.93,-261.3 206.7,-267.97 212.66,-271.65\"/>\n",
       "</g>\n",
       "<!-- 6 -->\n",
       "<g id=\"node7\" class=\"node\">\n",
       "<title>6</title>\n",
       "<polygon fill=\"#399de5\" stroke=\"black\" points=\"220,-149.5 125,-149.5 125,-96.5 220,-96.5 220,-149.5\"/>\n",
       "<text text-anchor=\"middle\" x=\"172.5\" y=\"-134.3\" font-family=\"Helvetica,sans-Serif\" font-size=\"14.00\">gini = 0.0</text>\n",
       "<text text-anchor=\"middle\" x=\"172.5\" y=\"-119.3\" font-family=\"Helvetica,sans-Serif\" font-size=\"14.00\">samples = 2</text>\n",
       "<text text-anchor=\"middle\" x=\"172.5\" y=\"-104.3\" font-family=\"Helvetica,sans-Serif\" font-size=\"14.00\">value = [0, 2]</text>\n",
       "</g>\n",
       "<!-- 5&#45;&gt;6 -->\n",
       "<g id=\"edge6\" class=\"edge\">\n",
       "<title>5&#45;&gt;6</title>\n",
       "<path fill=\"none\" stroke=\"black\" d=\"M215.05,-192.88C208.18,-181.78 200.52,-169.37 193.61,-158.18\"/>\n",
       "<polygon fill=\"black\" stroke=\"black\" points=\"196.5,-156.19 188.26,-149.52 190.54,-159.87 196.5,-156.19\"/>\n",
       "</g>\n",
       "<!-- 7 -->\n",
       "<g id=\"node8\" class=\"node\">\n",
       "<title>7</title>\n",
       "<polygon fill=\"#9ccef2\" stroke=\"black\" points=\"356.5,-157 238.5,-157 238.5,-89 356.5,-89 356.5,-157\"/>\n",
       "<text text-anchor=\"middle\" x=\"297.5\" y=\"-141.8\" font-family=\"Helvetica,sans-Serif\" font-size=\"14.00\">Возраст &lt;= 32.0</text>\n",
       "<text text-anchor=\"middle\" x=\"297.5\" y=\"-126.8\" font-family=\"Helvetica,sans-Serif\" font-size=\"14.00\">gini = 0.444</text>\n",
       "<text text-anchor=\"middle\" x=\"297.5\" y=\"-111.8\" font-family=\"Helvetica,sans-Serif\" font-size=\"14.00\">samples = 3</text>\n",
       "<text text-anchor=\"middle\" x=\"297.5\" y=\"-96.8\" font-family=\"Helvetica,sans-Serif\" font-size=\"14.00\">value = [1, 2]</text>\n",
       "</g>\n",
       "<!-- 5&#45;&gt;7 -->\n",
       "<g id=\"edge7\" class=\"edge\">\n",
       "<title>5&#45;&gt;7</title>\n",
       "<path fill=\"none\" stroke=\"black\" d=\"M255.63,-192.88C260.83,-184.33 266.49,-175.01 271.93,-166.07\"/>\n",
       "<polygon fill=\"black\" stroke=\"black\" points=\"275.06,-167.66 277.26,-157.3 269.07,-164.03 275.06,-167.66\"/>\n",
       "</g>\n",
       "<!-- 8 -->\n",
       "<g id=\"node9\" class=\"node\">\n",
       "<title>8</title>\n",
       "<polygon fill=\"#e58139\" stroke=\"black\" points=\"288,-53 193,-53 193,0 288,0 288,-53\"/>\n",
       "<text text-anchor=\"middle\" x=\"240.5\" y=\"-37.8\" font-family=\"Helvetica,sans-Serif\" font-size=\"14.00\">gini = 0.0</text>\n",
       "<text text-anchor=\"middle\" x=\"240.5\" y=\"-22.8\" font-family=\"Helvetica,sans-Serif\" font-size=\"14.00\">samples = 1</text>\n",
       "<text text-anchor=\"middle\" x=\"240.5\" y=\"-7.8\" font-family=\"Helvetica,sans-Serif\" font-size=\"14.00\">value = [1, 0]</text>\n",
       "</g>\n",
       "<!-- 7&#45;&gt;8 -->\n",
       "<g id=\"edge8\" class=\"edge\">\n",
       "<title>7&#45;&gt;8</title>\n",
       "<path fill=\"none\" stroke=\"black\" d=\"M277.56,-88.95C272.27,-80.17 266.53,-70.66 261.2,-61.82\"/>\n",
       "<polygon fill=\"black\" stroke=\"black\" points=\"264.19,-59.99 256.02,-53.24 258.19,-63.61 264.19,-59.99\"/>\n",
       "</g>\n",
       "<!-- 9 -->\n",
       "<g id=\"node10\" class=\"node\">\n",
       "<title>9</title>\n",
       "<polygon fill=\"#399de5\" stroke=\"black\" points=\"401,-53 306,-53 306,0 401,0 401,-53\"/>\n",
       "<text text-anchor=\"middle\" x=\"353.5\" y=\"-37.8\" font-family=\"Helvetica,sans-Serif\" font-size=\"14.00\">gini = 0.0</text>\n",
       "<text text-anchor=\"middle\" x=\"353.5\" y=\"-22.8\" font-family=\"Helvetica,sans-Serif\" font-size=\"14.00\">samples = 2</text>\n",
       "<text text-anchor=\"middle\" x=\"353.5\" y=\"-7.8\" font-family=\"Helvetica,sans-Serif\" font-size=\"14.00\">value = [0, 2]</text>\n",
       "</g>\n",
       "<!-- 7&#45;&gt;9 -->\n",
       "<g id=\"edge9\" class=\"edge\">\n",
       "<title>7&#45;&gt;9</title>\n",
       "<path fill=\"none\" stroke=\"black\" d=\"M317.09,-88.95C322.24,-80.26 327.8,-70.86 333,-62.09\"/>\n",
       "<polygon fill=\"black\" stroke=\"black\" points=\"336.16,-63.62 338.25,-53.24 330.14,-60.06 336.16,-63.62\"/>\n",
       "</g>\n",
       "</g>\n",
       "</svg>\n"
      ],
      "text/plain": [
       "<graphviz.sources.Source at 0x7615fbada5c0>"
      ]
     },
     "execution_count": 10,
     "metadata": {},
     "output_type": "execute_result"
    }
   ],
   "source": [
    "clf = DecisionTreeClassifier(random_state=42)\n",
    "clf.fit(data['Возраст'].values.reshape(-1, 1), data['Невозврат кредита'].values)\n",
    "\n",
    "dot_data = export_graphviz(clf, feature_names=['Возраст'], filled=True, out_file=None)\n",
    "graphviz.Source(dot_data) "
   ]
  },
  {
   "cell_type": "code",
   "execution_count": 11,
   "metadata": {
    "colab": {
     "base_uri": "https://localhost:8080/",
     "height": 394
    },
    "executionInfo": {
     "elapsed": 11,
     "status": "ok",
     "timestamp": 1639730877588,
     "user": {
      "displayName": "Илья Сиганов",
      "photoUrl": "https://lh3.googleusercontent.com/a/default-user=s64",
      "userId": "11448722471696357981"
     },
     "user_tz": -360
    },
    "id": "ITal1Ct30Uu9",
    "outputId": "b51cb819-31cf-48e8-d2f6-72707abc1a06"
   },
   "outputs": [
    {
     "data": {
      "text/html": [
       "<div>\n",
       "<style scoped>\n",
       "    .dataframe tbody tr th:only-of-type {\n",
       "        vertical-align: middle;\n",
       "    }\n",
       "\n",
       "    .dataframe tbody tr th {\n",
       "        vertical-align: top;\n",
       "    }\n",
       "\n",
       "    .dataframe thead th {\n",
       "        text-align: right;\n",
       "    }\n",
       "</style>\n",
       "<table border=\"1\" class=\"dataframe\">\n",
       "  <thead>\n",
       "    <tr style=\"text-align: right;\">\n",
       "      <th></th>\n",
       "      <th>Возраст</th>\n",
       "      <th>Зарплата</th>\n",
       "      <th>Невозврат кредита</th>\n",
       "    </tr>\n",
       "  </thead>\n",
       "  <tbody>\n",
       "    <tr>\n",
       "      <th>2</th>\n",
       "      <td>18</td>\n",
       "      <td>22</td>\n",
       "      <td>1</td>\n",
       "    </tr>\n",
       "    <tr>\n",
       "      <th>0</th>\n",
       "      <td>17</td>\n",
       "      <td>25</td>\n",
       "      <td>1</td>\n",
       "    </tr>\n",
       "    <tr>\n",
       "      <th>8</th>\n",
       "      <td>29</td>\n",
       "      <td>33</td>\n",
       "      <td>1</td>\n",
       "    </tr>\n",
       "    <tr>\n",
       "      <th>3</th>\n",
       "      <td>20</td>\n",
       "      <td>36</td>\n",
       "      <td>0</td>\n",
       "    </tr>\n",
       "    <tr>\n",
       "      <th>4</th>\n",
       "      <td>38</td>\n",
       "      <td>37</td>\n",
       "      <td>1</td>\n",
       "    </tr>\n",
       "    <tr>\n",
       "      <th>5</th>\n",
       "      <td>49</td>\n",
       "      <td>59</td>\n",
       "      <td>0</td>\n",
       "    </tr>\n",
       "    <tr>\n",
       "      <th>7</th>\n",
       "      <td>25</td>\n",
       "      <td>70</td>\n",
       "      <td>1</td>\n",
       "    </tr>\n",
       "    <tr>\n",
       "      <th>6</th>\n",
       "      <td>55</td>\n",
       "      <td>74</td>\n",
       "      <td>0</td>\n",
       "    </tr>\n",
       "    <tr>\n",
       "      <th>1</th>\n",
       "      <td>64</td>\n",
       "      <td>80</td>\n",
       "      <td>0</td>\n",
       "    </tr>\n",
       "    <tr>\n",
       "      <th>10</th>\n",
       "      <td>33</td>\n",
       "      <td>88</td>\n",
       "      <td>1</td>\n",
       "    </tr>\n",
       "    <tr>\n",
       "      <th>9</th>\n",
       "      <td>31</td>\n",
       "      <td>102</td>\n",
       "      <td>0</td>\n",
       "    </tr>\n",
       "  </tbody>\n",
       "</table>\n",
       "</div>"
      ],
      "text/plain": [
       "    Возраст  Зарплата  Невозврат кредита\n",
       "2        18        22                  1\n",
       "0        17        25                  1\n",
       "8        29        33                  1\n",
       "3        20        36                  0\n",
       "4        38        37                  1\n",
       "5        49        59                  0\n",
       "7        25        70                  1\n",
       "6        55        74                  0\n",
       "1        64        80                  0\n",
       "10       33        88                  1\n",
       "9        31       102                  0"
      ]
     },
     "execution_count": 11,
     "metadata": {},
     "output_type": "execute_result"
    }
   ],
   "source": [
    "data2 = pd.DataFrame({'Возраст':  [17,64,18,20,38,49,55,25,29,31,33], \n",
    "                      'Зарплата': [25,80,22,36,37,59,74,70,33,102,88], \n",
    "             'Невозврат кредита': [1,0,1,0,1,0,0,1,1,0,1]})\n",
    "\n",
    "data2.sort_values('Зарплата')"
   ]
  },
  {
   "cell_type": "code",
   "execution_count": 12,
   "metadata": {
    "colab": {
     "base_uri": "https://localhost:8080/",
     "height": 657
    },
    "executionInfo": {
     "elapsed": 575,
     "status": "ok",
     "timestamp": 1639730878153,
     "user": {
      "displayName": "Илья Сиганов",
      "photoUrl": "https://lh3.googleusercontent.com/a/default-user=s64",
      "userId": "11448722471696357981"
     },
     "user_tz": -360
    },
    "id": "9-_pqaAv0UvB",
    "outputId": "7db751e7-750b-4420-9652-48b0b50fd333"
   },
   "outputs": [
    {
     "data": {
      "image/svg+xml": [
       "<?xml version=\"1.0\" encoding=\"UTF-8\" standalone=\"no\"?>\n",
       "<!DOCTYPE svg PUBLIC \"-//W3C//DTD SVG 1.1//EN\"\n",
       " \"http://www.w3.org/Graphics/SVG/1.1/DTD/svg11.dtd\">\n",
       "<!-- Generated by graphviz version 2.43.0 (0)\n",
       " -->\n",
       "<!-- Title: Tree Pages: 1 -->\n",
       "<svg width=\"412pt\" height=\"477pt\"\n",
       " viewBox=\"0.00 0.00 412.00 477.00\" xmlns=\"http://www.w3.org/2000/svg\" xmlns:xlink=\"http://www.w3.org/1999/xlink\">\n",
       "<g id=\"graph0\" class=\"graph\" transform=\"scale(1 1) rotate(0) translate(4 473)\">\n",
       "<title>Tree</title>\n",
       "<polygon fill=\"white\" stroke=\"transparent\" points=\"-4,4 -4,-473 408,-473 408,4 -4,4\"/>\n",
       "<!-- 0 -->\n",
       "<g id=\"node1\" class=\"node\">\n",
       "<title>0</title>\n",
       "<polygon fill=\"#deeffb\" stroke=\"black\" points=\"350.5,-469 232.5,-469 232.5,-401 350.5,-401 350.5,-469\"/>\n",
       "<text text-anchor=\"middle\" x=\"291.5\" y=\"-453.8\" font-family=\"Helvetica,sans-Serif\" font-size=\"14.00\">Возраст &lt;= 43.5</text>\n",
       "<text text-anchor=\"middle\" x=\"291.5\" y=\"-438.8\" font-family=\"Helvetica,sans-Serif\" font-size=\"14.00\">gini = 0.496</text>\n",
       "<text text-anchor=\"middle\" x=\"291.5\" y=\"-423.8\" font-family=\"Helvetica,sans-Serif\" font-size=\"14.00\">samples = 11</text>\n",
       "<text text-anchor=\"middle\" x=\"291.5\" y=\"-408.8\" font-family=\"Helvetica,sans-Serif\" font-size=\"14.00\">value = [5, 6]</text>\n",
       "</g>\n",
       "<!-- 1 -->\n",
       "<g id=\"node2\" class=\"node\">\n",
       "<title>1</title>\n",
       "<polygon fill=\"#7bbeee\" stroke=\"black\" points=\"291,-365 164,-365 164,-297 291,-297 291,-365\"/>\n",
       "<text text-anchor=\"middle\" x=\"227.5\" y=\"-349.8\" font-family=\"Helvetica,sans-Serif\" font-size=\"14.00\">Зарплата &lt;= 95.0</text>\n",
       "<text text-anchor=\"middle\" x=\"227.5\" y=\"-334.8\" font-family=\"Helvetica,sans-Serif\" font-size=\"14.00\">gini = 0.375</text>\n",
       "<text text-anchor=\"middle\" x=\"227.5\" y=\"-319.8\" font-family=\"Helvetica,sans-Serif\" font-size=\"14.00\">samples = 8</text>\n",
       "<text text-anchor=\"middle\" x=\"227.5\" y=\"-304.8\" font-family=\"Helvetica,sans-Serif\" font-size=\"14.00\">value = [2, 6]</text>\n",
       "</g>\n",
       "<!-- 0&#45;&gt;1 -->\n",
       "<g id=\"edge1\" class=\"edge\">\n",
       "<title>0&#45;&gt;1</title>\n",
       "<path fill=\"none\" stroke=\"black\" d=\"M270.72,-400.88C265.3,-392.24 259.39,-382.82 253.72,-373.79\"/>\n",
       "<polygon fill=\"black\" stroke=\"black\" points=\"256.67,-371.91 248.39,-365.3 250.74,-375.63 256.67,-371.91\"/>\n",
       "<text text-anchor=\"middle\" x=\"242.82\" y=\"-385.97\" font-family=\"Helvetica,sans-Serif\" font-size=\"14.00\">True</text>\n",
       "</g>\n",
       "<!-- 8 -->\n",
       "<g id=\"node9\" class=\"node\">\n",
       "<title>8</title>\n",
       "<polygon fill=\"#e58139\" stroke=\"black\" points=\"404,-357.5 309,-357.5 309,-304.5 404,-304.5 404,-357.5\"/>\n",
       "<text text-anchor=\"middle\" x=\"356.5\" y=\"-342.3\" font-family=\"Helvetica,sans-Serif\" font-size=\"14.00\">gini = 0.0</text>\n",
       "<text text-anchor=\"middle\" x=\"356.5\" y=\"-327.3\" font-family=\"Helvetica,sans-Serif\" font-size=\"14.00\">samples = 3</text>\n",
       "<text text-anchor=\"middle\" x=\"356.5\" y=\"-312.3\" font-family=\"Helvetica,sans-Serif\" font-size=\"14.00\">value = [3, 0]</text>\n",
       "</g>\n",
       "<!-- 0&#45;&gt;8 -->\n",
       "<g id=\"edge8\" class=\"edge\">\n",
       "<title>0&#45;&gt;8</title>\n",
       "<path fill=\"none\" stroke=\"black\" d=\"M312.6,-400.88C319.68,-389.78 327.59,-377.37 334.72,-366.18\"/>\n",
       "<polygon fill=\"black\" stroke=\"black\" points=\"337.81,-367.83 340.24,-357.52 331.91,-364.07 337.81,-367.83\"/>\n",
       "<text text-anchor=\"middle\" x=\"345.65\" y=\"-378.23\" font-family=\"Helvetica,sans-Serif\" font-size=\"14.00\">False</text>\n",
       "</g>\n",
       "<!-- 2 -->\n",
       "<g id=\"node3\" class=\"node\">\n",
       "<title>2</title>\n",
       "<polygon fill=\"#5aade9\" stroke=\"black\" points=\"224.5,-261 106.5,-261 106.5,-193 224.5,-193 224.5,-261\"/>\n",
       "<text text-anchor=\"middle\" x=\"165.5\" y=\"-245.8\" font-family=\"Helvetica,sans-Serif\" font-size=\"14.00\">Возраст &lt;= 22.5</text>\n",
       "<text text-anchor=\"middle\" x=\"165.5\" y=\"-230.8\" font-family=\"Helvetica,sans-Serif\" font-size=\"14.00\">gini = 0.245</text>\n",
       "<text text-anchor=\"middle\" x=\"165.5\" y=\"-215.8\" font-family=\"Helvetica,sans-Serif\" font-size=\"14.00\">samples = 7</text>\n",
       "<text text-anchor=\"middle\" x=\"165.5\" y=\"-200.8\" font-family=\"Helvetica,sans-Serif\" font-size=\"14.00\">value = [1, 6]</text>\n",
       "</g>\n",
       "<!-- 1&#45;&gt;2 -->\n",
       "<g id=\"edge2\" class=\"edge\">\n",
       "<title>1&#45;&gt;2</title>\n",
       "<path fill=\"none\" stroke=\"black\" d=\"M207.37,-296.88C202.17,-288.33 196.51,-279.01 191.07,-270.07\"/>\n",
       "<polygon fill=\"black\" stroke=\"black\" points=\"193.93,-268.03 185.74,-261.3 187.94,-271.66 193.93,-268.03\"/>\n",
       "</g>\n",
       "<!-- 7 -->\n",
       "<g id=\"node8\" class=\"node\">\n",
       "<title>7</title>\n",
       "<polygon fill=\"#e58139\" stroke=\"black\" points=\"338,-253.5 243,-253.5 243,-200.5 338,-200.5 338,-253.5\"/>\n",
       "<text text-anchor=\"middle\" x=\"290.5\" y=\"-238.3\" font-family=\"Helvetica,sans-Serif\" font-size=\"14.00\">gini = 0.0</text>\n",
       "<text text-anchor=\"middle\" x=\"290.5\" y=\"-223.3\" font-family=\"Helvetica,sans-Serif\" font-size=\"14.00\">samples = 1</text>\n",
       "<text text-anchor=\"middle\" x=\"290.5\" y=\"-208.3\" font-family=\"Helvetica,sans-Serif\" font-size=\"14.00\">value = [1, 0]</text>\n",
       "</g>\n",
       "<!-- 1&#45;&gt;7 -->\n",
       "<g id=\"edge7\" class=\"edge\">\n",
       "<title>1&#45;&gt;7</title>\n",
       "<path fill=\"none\" stroke=\"black\" d=\"M247.95,-296.88C254.82,-285.78 262.48,-273.37 269.39,-262.18\"/>\n",
       "<polygon fill=\"black\" stroke=\"black\" points=\"272.46,-263.87 274.74,-253.52 266.5,-260.19 272.46,-263.87\"/>\n",
       "</g>\n",
       "<!-- 3 -->\n",
       "<g id=\"node4\" class=\"node\">\n",
       "<title>3</title>\n",
       "<polygon fill=\"#9ccef2\" stroke=\"black\" points=\"162.5,-157 44.5,-157 44.5,-89 162.5,-89 162.5,-157\"/>\n",
       "<text text-anchor=\"middle\" x=\"103.5\" y=\"-141.8\" font-family=\"Helvetica,sans-Serif\" font-size=\"14.00\">Возраст &lt;= 19.0</text>\n",
       "<text text-anchor=\"middle\" x=\"103.5\" y=\"-126.8\" font-family=\"Helvetica,sans-Serif\" font-size=\"14.00\">gini = 0.444</text>\n",
       "<text text-anchor=\"middle\" x=\"103.5\" y=\"-111.8\" font-family=\"Helvetica,sans-Serif\" font-size=\"14.00\">samples = 3</text>\n",
       "<text text-anchor=\"middle\" x=\"103.5\" y=\"-96.8\" font-family=\"Helvetica,sans-Serif\" font-size=\"14.00\">value = [1, 2]</text>\n",
       "</g>\n",
       "<!-- 2&#45;&gt;3 -->\n",
       "<g id=\"edge3\" class=\"edge\">\n",
       "<title>2&#45;&gt;3</title>\n",
       "<path fill=\"none\" stroke=\"black\" d=\"M145.37,-192.88C140.17,-184.33 134.51,-175.01 129.07,-166.07\"/>\n",
       "<polygon fill=\"black\" stroke=\"black\" points=\"131.93,-164.03 123.74,-157.3 125.94,-167.66 131.93,-164.03\"/>\n",
       "</g>\n",
       "<!-- 6 -->\n",
       "<g id=\"node7\" class=\"node\">\n",
       "<title>6</title>\n",
       "<polygon fill=\"#399de5\" stroke=\"black\" points=\"276,-149.5 181,-149.5 181,-96.5 276,-96.5 276,-149.5\"/>\n",
       "<text text-anchor=\"middle\" x=\"228.5\" y=\"-134.3\" font-family=\"Helvetica,sans-Serif\" font-size=\"14.00\">gini = 0.0</text>\n",
       "<text text-anchor=\"middle\" x=\"228.5\" y=\"-119.3\" font-family=\"Helvetica,sans-Serif\" font-size=\"14.00\">samples = 4</text>\n",
       "<text text-anchor=\"middle\" x=\"228.5\" y=\"-104.3\" font-family=\"Helvetica,sans-Serif\" font-size=\"14.00\">value = [0, 4]</text>\n",
       "</g>\n",
       "<!-- 2&#45;&gt;6 -->\n",
       "<g id=\"edge6\" class=\"edge\">\n",
       "<title>2&#45;&gt;6</title>\n",
       "<path fill=\"none\" stroke=\"black\" d=\"M185.95,-192.88C192.82,-181.78 200.48,-169.37 207.39,-158.18\"/>\n",
       "<polygon fill=\"black\" stroke=\"black\" points=\"210.46,-159.87 212.74,-149.52 204.5,-156.19 210.46,-159.87\"/>\n",
       "</g>\n",
       "<!-- 4 -->\n",
       "<g id=\"node5\" class=\"node\">\n",
       "<title>4</title>\n",
       "<polygon fill=\"#399de5\" stroke=\"black\" points=\"95,-53 0,-53 0,0 95,0 95,-53\"/>\n",
       "<text text-anchor=\"middle\" x=\"47.5\" y=\"-37.8\" font-family=\"Helvetica,sans-Serif\" font-size=\"14.00\">gini = 0.0</text>\n",
       "<text text-anchor=\"middle\" x=\"47.5\" y=\"-22.8\" font-family=\"Helvetica,sans-Serif\" font-size=\"14.00\">samples = 2</text>\n",
       "<text text-anchor=\"middle\" x=\"47.5\" y=\"-7.8\" font-family=\"Helvetica,sans-Serif\" font-size=\"14.00\">value = [0, 2]</text>\n",
       "</g>\n",
       "<!-- 3&#45;&gt;4 -->\n",
       "<g id=\"edge4\" class=\"edge\">\n",
       "<title>3&#45;&gt;4</title>\n",
       "<path fill=\"none\" stroke=\"black\" d=\"M83.91,-88.95C78.76,-80.26 73.2,-70.86 68,-62.09\"/>\n",
       "<polygon fill=\"black\" stroke=\"black\" points=\"70.86,-60.06 62.75,-53.24 64.84,-63.62 70.86,-60.06\"/>\n",
       "</g>\n",
       "<!-- 5 -->\n",
       "<g id=\"node6\" class=\"node\">\n",
       "<title>5</title>\n",
       "<polygon fill=\"#e58139\" stroke=\"black\" points=\"208,-53 113,-53 113,0 208,0 208,-53\"/>\n",
       "<text text-anchor=\"middle\" x=\"160.5\" y=\"-37.8\" font-family=\"Helvetica,sans-Serif\" font-size=\"14.00\">gini = 0.0</text>\n",
       "<text text-anchor=\"middle\" x=\"160.5\" y=\"-22.8\" font-family=\"Helvetica,sans-Serif\" font-size=\"14.00\">samples = 1</text>\n",
       "<text text-anchor=\"middle\" x=\"160.5\" y=\"-7.8\" font-family=\"Helvetica,sans-Serif\" font-size=\"14.00\">value = [1, 0]</text>\n",
       "</g>\n",
       "<!-- 3&#45;&gt;5 -->\n",
       "<g id=\"edge5\" class=\"edge\">\n",
       "<title>3&#45;&gt;5</title>\n",
       "<path fill=\"none\" stroke=\"black\" d=\"M123.44,-88.95C128.73,-80.17 134.47,-70.66 139.8,-61.82\"/>\n",
       "<polygon fill=\"black\" stroke=\"black\" points=\"142.81,-63.61 144.98,-53.24 136.81,-59.99 142.81,-63.61\"/>\n",
       "</g>\n",
       "</g>\n",
       "</svg>\n"
      ],
      "text/plain": [
       "<graphviz.sources.Source at 0x7615fbada950>"
      ]
     },
     "execution_count": 12,
     "metadata": {},
     "output_type": "execute_result"
    }
   ],
   "source": [
    "clf = DecisionTreeClassifier(random_state=42)\n",
    "clf.fit(data2[['Возраст', 'Зарплата']].values, data2['Невозврат кредита'].values)\n",
    "\n",
    "dot_data = export_graphviz(clf, feature_names=['Возраст', 'Зарплата'], filled=True, out_file=None)\n",
    "graphviz.Source(dot_data) "
   ]
  },
  {
   "cell_type": "markdown",
   "metadata": {
    "id": "u6yxJ9om1fVk"
   },
   "source": [
    "## Растим дерево"
   ]
  },
  {
   "cell_type": "markdown",
   "metadata": {
    "id": "OW6HtVRl6FGA"
   },
   "source": [
    "Прежде всего, для этого нам понадобится метрика неопределённости (impurity metric). \n",
    "\n",
    "Для классификации чаще всего предлагают следующие две:\n",
    "<!-- \n",
    "![picture](https://drive.google.com/uc?export=view&id=1DjsVDWXvKPs-cLbl8y9o-OozD_a7u1U-) -->\n",
    "\n",
    "- энтропия: $\\sum_k{p_{ik}log_2(p_{ik})}$\n",
    "\n",
    "- индекс Джини: $\\sum_{j\\neq k}p_{ij}p_{ik} = 1 - \\sum_k p_{ik}^2$\n",
    "\n",
    "где $i$ - ID узлов дерева;\n",
    "\n",
    "$k, j$ - идентификаторы классов, представленных в датасете;\n",
    "\n",
    "$p_{ik} = \\frac{N_{ik}}{N_i}$, \n",
    "\n",
    "$p_{ik}$ - вероятность принадлежности класса $k$ узлу $i$,\n",
    "\n",
    "$N_{ik}$ - число объектов класса $k$ в узле $i$,\n",
    "\n",
    "$N_{i}$ - общее число объектов в узле $i$.\n"
   ]
  },
  {
   "cell_type": "code",
   "execution_count": 14,
   "metadata": {
    "id": "ClTJuvlQ0c92"
   },
   "outputs": [],
   "source": [
    "def gini_index(y: np.ndarray) -> float:\n",
    "    \"\"\"Вычисляет индекс Джини для выборки.\n",
    "\n",
    "    Args:\n",
    "      y: массив меток классов, например [1,2,3,1,4,2]\n",
    "    \n",
    "    Returns:\n",
    "      float: индекс джини\n",
    "    \"\"\"\n",
    "    if len(y) == 0:\n",
    "        return 0.0\n",
    "    class_counts = np.bincount(y)\n",
    "    probabilities = class_counts / len(y)\n",
    "    gini = 1 - np.sum(probabilities ** 2)\n",
    "    return gini\n",
    "\n",
    "\n",
    "sample = np.array([1,1,2,3,3,3,3,3,3,3,1,2,3,1])\n",
    "assert np.abs(gini_index(sample) - 0.5714285714285714) < 0.000000001\n",
    "assert gini_index(np.array([1,1,1,1,1,1])) == 0.0\n",
    "assert gini_index(np.array([1,2,1,2])) == 0.5\n"
   ]
  },
  {
   "cell_type": "code",
   "execution_count": 40,
   "metadata": {
    "id": "EkmzHbPlQEdY"
   },
   "outputs": [
    {
     "name": "stdout",
     "output_type": "stream",
     "text": [
      "1.3787834934861753\n"
     ]
    }
   ],
   "source": [
    "import scipy\n",
    "\n",
    "def entropy(y: np.ndarray) -> float:\n",
    "    \"\"\"Вычисляет энтропию выборки.\n",
    "\n",
    "    Args:\n",
    "      y: массив меток классов, например [1,2,3,1,4,2]\n",
    "\n",
    "    Returns:\n",
    "      float: значение энтропии\n",
    "    \"\"\"\n",
    "    if len(y) == 0:\n",
    "        return 0.0\n",
    "    class_counts = np.bincount(y)\n",
    "    probabilities = class_counts / len(y)\n",
    "    probabilities = probabilities[probabilities > 0]\n",
    "    entropy_value = -np.sum(probabilities * np.log2(probabilities))\n",
    "    return entropy_value\n",
    "\n",
    "\n",
    "sample = np.array([1,1,2,3,3,3,3,3,3,3,1,2,3,1])\n",
    "print(entropy(sample))\n",
    "#assert np.abs(entropy(sample) - 0.9556998911125343) < 0.000000001\n",
    "assert entropy(np.array([1,1,1,1,1,1])) == 0.0\n",
    "#assert np.abs(entropy(np.array([1,2,1,2])) - 0.6931471805599453) < 0.000000001"
   ]
  },
  {
   "cell_type": "markdown",
   "metadata": {
    "id": "k20kqo7u20dZ"
   },
   "source": [
    "### Узел решающего дерева\n",
    "Он будет содержать как поля:\n",
    "- значение целевого признака\n",
    "- номер колонки признака\n",
    "- величину примеси\n",
    "- ссылки на левый и правый потомок в дереве(на всякий случай)) \n",
    "\n",
    "Узел умееть делать предсказание.\n",
    "\n",
    "**Hint:** метод predict проверяет, является ли данный узел листом и в зависимости от этого либо возвращает значение, либо вызывает этот метод у дочерних узлов."
   ]
  },
  {
   "cell_type": "code",
   "execution_count": 41,
   "metadata": {
    "id": "LXszAwNA7B_-"
   },
   "outputs": [],
   "source": [
    "class TreeNode:\n",
    "    def __init__(\n",
    "        self, \n",
    "        impurity=sys.float_info.max, \n",
    "        target_value=None,\n",
    "        is_leaf=True,\n",
    "        condition_column=None,\n",
    "        condition_value=None,\n",
    "        left_child=None,\n",
    "        right_child=None,\n",
    "    ):\n",
    "        self.left_child: TreeNode = left_child  # левое ответвление\n",
    "        self.right_child: TreeNode = right_child  # правое ответвление\n",
    "        self.is_leaf = is_leaf  # флаг, является ли этот узел терминльным (то есть листом)\n",
    "\n",
    "        self.target_value = target_value  # значение целевого признака, которое предсказывает этот узел дерева\n",
    "        \n",
    "        self.condition_column = condition_column  # id столбца, по которому будет делаться ветвление в этом узле дерева\n",
    "        self.condition_value = condition_value  # значение, величины, по которой было сделано ветвление\n",
    "        self.impurity = impurity  # значение неопределённости для этого узла\n",
    "\n",
    "    def predict(self, x):\n",
    "        if self.is_leaf:\n",
    "            return self.target_value\n",
    "        else:\n",
    "            if x[self.condition_column] <= self.condition_value:\n",
    "                return self.left_child.predict(x)\n",
    "            else:\n",
    "                return self.right_child.predict(x)"
   ]
  },
  {
   "cell_type": "markdown",
   "metadata": {
    "id": "dB2iMrgx7_Hm"
   },
   "source": [
    "#### Теперь можно приступить к реализации алгоритма построения дерева.\n",
    "\n",
    "На псевдокоде он выглядит вот так:\n",
    "```python\n",
    "def build(L):\n",
    "    create node t\n",
    "    if the stopping criterion is True:\n",
    "        assign a predictive model to t\n",
    "    else:\n",
    "        Find the best binary split L = L_left + L_right\n",
    "        t.left = build(L_left)\n",
    "        t.right = build(L_right)\n",
    "    return t\n",
    "```\n",
    "Как вы можете заметить, он рекурсивный."
   ]
  },
  {
   "cell_type": "markdown",
   "metadata": {
    "id": "6isQAlwlniqR"
   },
   "source": [
    "Сначала напишем функцию, осуществляющую формирование одного узла дерева (ту самую, которую мы будем вызывать рекурсивно).\n",
    "\n",
    "Прекращать дробление выборки и создавать новые узлы будем, если\n",
    "- В текущем узле все элементы относятся к одному классу\n",
    "- Information Gain наилучшего возможного разбиения отрицательный\n",
    "\n",
    "Information Gain ($IG$) определяется как\n",
    "\n",
    "$ IG = S_{orig} - \\frac{N_{left}}{N}S_{left} - \\frac{N_{right}}{N}S_{right}$, где \n",
    "\n",
    "$S_{orig}$ - неопределённость для всей выборки на текущем шаге\n",
    "\n",
    "$S_{left}, S_{right}$ - неопределённость на частях текущего разбиения\n",
    "\n",
    "$\\frac{N_{i}}{N}$ - доля подвыборки для $i$-й части разбиения относительно исходной выборки\n",
    "\n",
    "В этой формуле $\\frac{N_{left}}{N}S_{left} + \\frac{N_{right}}{N}S_{right}$ - неопределённость для нового разбиения, давайте посчитаем его отдельно."
   ]
  },
  {
   "cell_type": "code",
   "execution_count": 42,
   "metadata": {
    "id": "VkU55OPRMwJP"
   },
   "outputs": [],
   "source": [
    "def new_split_impurity(y_left: np.ndarray, y_right: np.ndarray, impurity_metric) -> float:\n",
    "    \"\"\"Вычисляет неопределенность для разбиения по формуле выше.\n",
    "\n",
    "    Args:\n",
    "      y_left: метки классов подвыборки для левой поддерева вида [1,1,2,3,4,5]\n",
    "      y_right: метки классов подвыборки для правого поддерева вида [1,1,2,3,4,5]\n",
    "      impurity_metric: функция, вычисляющая метрику неопрделенности, например gini или entropy\n",
    "    \n",
    "    Returns: \n",
    "      float: неопределенность разбиения\n",
    "    \"\"\"\n",
    "    total_samples = len(y_left) + len(y_right)\n",
    "    \n",
    "    weight_left = len(y_left) / total_samples\n",
    "    weight_right = len(y_right) / total_samples\n",
    "    \n",
    "    impurity_left = impurity_metric(y_left)\n",
    "    impurity_right = impurity_metric(y_right)\n",
    "    \n",
    "    return weight_left * impurity_left + weight_right * impurity_right"
   ]
  },
  {
   "cell_type": "code",
   "execution_count": 43,
   "metadata": {
    "colab": {
     "base_uri": "https://localhost:8080/"
    },
    "executionInfo": {
     "elapsed": 14,
     "status": "ok",
     "timestamp": 1639730878154,
     "user": {
      "displayName": "Илья Сиганов",
      "photoUrl": "https://lh3.googleusercontent.com/a/default-user=s64",
      "userId": "11448722471696357981"
     },
     "user_tz": -360
    },
    "id": "QdI9hZH_MwJP",
    "outputId": "51f8001a-c759-4ef6-c0c1-e260373deff6"
   },
   "outputs": [
    {
     "name": "stdout",
     "output_type": "stream",
     "text": [
      "Default impurity is 0.48\n",
      "[0 0] [1 1 1]\n",
      "Impurity after splitting into [0 0] and [1 1 1] is 0.0\n"
     ]
    }
   ],
   "source": [
    "a = np.asarray([0,0,1,1,1])\n",
    "gi = gini_index(a)\n",
    "print('Default impurity is', gi)\n",
    "assert gi == 0.48\n",
    "\n",
    "# делаем разбиение данных\n",
    "l, r = np.split(a, [2])\n",
    "# l, r = a[:2], a[2:] # это тоже самое что и np.split, но функция не создает копии данных\n",
    "print(l, r)\n",
    "\n",
    "si = new_split_impurity(l, r, gini_index)\n",
    "print(f'Impurity after splitting into {l} and {r} is', si)\n",
    "assert si == 0\n",
    "\n",
    "del a, l, r, gi, si"
   ]
  },
  {
   "cell_type": "markdown",
   "metadata": {
    "id": "JYKQh-oHMwJP"
   },
   "source": [
    "Реализуйте функцию выбора класса для текущего листа.\n",
    "Будет достаточно выбрать наиболее часто встречающийся класс, или один из таких."
   ]
  },
  {
   "cell_type": "code",
   "execution_count": 45,
   "metadata": {
    "id": "Vh94xSulMwJP"
   },
   "outputs": [],
   "source": [
    "def find_dominant_class(y: np.ndarray):\n",
    "    \"\"\"Возвращает наиболее часто встречающийся класс в выборке.\n",
    "    \n",
    "    Args:\n",
    "      y: массив меток классов, например [1,2,4,2,3,1]\n",
    "    Returns:\n",
    "      object: самый часто встречающийся класс. Может быть строкой, если лейблы у нас это строки, а не индексы.\n",
    "    \"\"\"\n",
    "    unique_classes, counts = np.unique(y, return_counts=True)\n",
    "    \n",
    "    max_index = np.argmax(counts)\n",
    "    \n",
    "    return unique_classes[max_index]"
   ]
  },
  {
   "cell_type": "code",
   "execution_count": 46,
   "metadata": {
    "colab": {
     "base_uri": "https://localhost:8080/"
    },
    "executionInfo": {
     "elapsed": 13,
     "status": "ok",
     "timestamp": 1639730878155,
     "user": {
      "displayName": "Илья Сиганов",
      "photoUrl": "https://lh3.googleusercontent.com/a/default-user=s64",
      "userId": "11448722471696357981"
     },
     "user_tz": -360
    },
    "id": "yhoLcCWJMwJP",
    "outputId": "978d9ecb-ad4d-4d1e-d7a0-1076e0d3f812"
   },
   "outputs": [
    {
     "name": "stdout",
     "output_type": "stream",
     "text": [
      "The most common class is \"кочерыжка\"\n"
     ]
    }
   ],
   "source": [
    "most_freq = find_dominant_class([1,2,\"кочерыжка\", 1,\"кочерыжка\", \"кочерыжка\"])\n",
    "print(f'The most common class is \"{most_freq}\"')\n",
    "\n",
    "assert most_freq == 'кочерыжка'\n",
    "del most_freq"
   ]
  },
  {
   "cell_type": "markdown",
   "metadata": {
    "id": "XRojJtQ7MwJP"
   },
   "source": [
    "#### Реализация алгоритма решающего дерева\n",
    "Реализуйте метод построения дерева на основе описания, указанного выше.\n",
    "\n",
    "Для этого Вам понадобится дополнительная функция, которая выбирает наиболее подходящее разбиение.\n",
    "\n",
    "Разбиение в данной вариации делается по одному столбцу в данных. (Соответственно, нужно сначала подготавливать столбец к поиску разбиений)"
   ]
  },
  {
   "cell_type": "code",
   "execution_count": 47,
   "metadata": {
    "colab": {
     "base_uri": "https://localhost:8080/"
    },
    "executionInfo": {
     "elapsed": 11,
     "status": "ok",
     "timestamp": 1639730878155,
     "user": {
      "displayName": "Илья Сиганов",
      "photoUrl": "https://lh3.googleusercontent.com/a/default-user=s64",
      "userId": "11448722471696357981"
     },
     "user_tz": -360
    },
    "id": "nvVIHvRzdVvP",
    "outputId": "66e8c565-e000-4248-849c-1905cb0d714f"
   },
   "outputs": [
    {
     "name": "stdout",
     "output_type": "stream",
     "text": [
      "[ True  True  True  True  True]\n",
      "[ True  True  True  True  True  True  True]\n"
     ]
    }
   ],
   "source": [
    "def get_split_values(x):\n",
    "    # здесь нужно сформировать и вернуть значения, по которым алгоритм будет выбирать значение для разбиения\n",
    "    # P.S.: х - это один столбец из характеристических данных\n",
    "    unique_sorted = np.sort(np.unique(x))\n",
    "    \n",
    "    split_values = (unique_sorted[:-1] + unique_sorted[1:]) / 2.0\n",
    "    \n",
    "    return split_values\n",
    "\n",
    "\n",
    "print(get_split_values([1,2,3,4,5,6]) == np.array([1.5, 2.5,3.5,4.5,5.5]))\n",
    "print(get_split_values([1,2,7,88,12,346,12,6,2,4,6,1,1,12,88]) == np.array([1.5, 3, 5, 6.5, 9.5, 50, 217]))"
   ]
  },
  {
   "cell_type": "code",
   "execution_count": 51,
   "metadata": {
    "id": "e7DXdezSeWty"
   },
   "outputs": [
    {
     "ename": "AssertionError",
     "evalue": "",
     "output_type": "error",
     "traceback": [
      "\u001b[0;31m---------------------------------------------------------------------------\u001b[0m",
      "\u001b[0;31mAssertionError\u001b[0m                            Traceback (most recent call last)",
      "Cell \u001b[0;32mIn[51], line 68\u001b[0m\n\u001b[1;32m     65\u001b[0m \u001b[38;5;28;01massert\u001b[39;00m best_split_value_ \u001b[38;5;241m==\u001b[39m \u001b[38;5;241m95\u001b[39m\n\u001b[1;32m     67\u001b[0m min_impurity_, best_split_col_, best_split_value_ \u001b[38;5;241m=\u001b[39m find_best_split(X_test[mask], y_test[mask], gini_index)\n\u001b[0;32m---> 68\u001b[0m \u001b[38;5;28;01massert\u001b[39;00m min_impurity_ \u001b[38;5;241m==\u001b[39m \u001b[38;5;241m0\u001b[39m\n\u001b[1;32m     69\u001b[0m \u001b[38;5;28;01massert\u001b[39;00m best_split_col_ \u001b[38;5;241m==\u001b[39m \u001b[38;5;241m0\u001b[39m\n\u001b[1;32m     70\u001b[0m \u001b[38;5;28;01massert\u001b[39;00m best_split_value_ \u001b[38;5;241m==\u001b[39m \u001b[38;5;241m52\u001b[39m\n",
      "\u001b[0;31mAssertionError\u001b[0m: "
     ]
    }
   ],
   "source": [
    "def find_best_split(x, y: np.ndarray, impurity_metric):\n",
    "    \"\"\"\n",
    "    Args:\n",
    "      x: матрица признаков данных\n",
    "      y: список меток классов, другими словами - это столбец целевых признаков\n",
    "      impurity_metric: функция для вычисления неопределенности выборки\n",
    "    \n",
    "    Returns:\n",
    "      min_impurity:\n",
    "      best_split_col:\n",
    "      best_split_value:\n",
    "    \"\"\"\n",
    "    min_impurity = np.inf\n",
    "    best_split_col = None\n",
    "    best_split_value = None\n",
    "    \n",
    "    original_impurity = impurity_metric(y)\n",
    "    \n",
    "    for col in range(x.shape[1]): \n",
    "        split_values = get_split_values(x[:, col]) \n",
    "        \n",
    "        for value in split_values: \n",
    "            left_mask = x[:, col] <= value\n",
    "            right_mask = ~left_mask  \n",
    "            \n",
    "            if np.sum(left_mask) == 0 or np.sum(right_mask) == 0:\n",
    "                continue \n",
    "            \n",
    "            y_left, y_right = y[left_mask], y[right_mask]\n",
    "            split_impurity = new_split_impurity(y_left, y_right, impurity_metric)\n",
    "            \n",
    "            ig = original_impurity - split_impurity\n",
    "            \n",
    "            if ig > 0 and split_impurity < min_impurity:\n",
    "                min_impurity = split_impurity\n",
    "                best_split_col = col\n",
    "                best_split_value = value\n",
    "    \n",
    "    return min_impurity, best_split_col, best_split_value\n",
    "\n",
    "\n",
    "## ТЕСТЫ\n",
    "\n",
    "data2 = pd.DataFrame({\n",
    "    'Возраст':  [17,64,18,20,38,49,55,25,29,31,33], \n",
    "    'Зарплата': [25,80,22,36,37,59,74,70,33,102,88], \n",
    "    'Невозврат кредита': [1,0,1,0,1,0,0,1,1,0,1]\n",
    "})\n",
    "\n",
    "X_test = data2[['Возраст', 'Зарплата']].values\n",
    "y_test = data2['Невозврат кредита']\n",
    "\n",
    "min_impurity_, best_split_col_, best_split_value_ = find_best_split(X_test, y_test, gini_index)\n",
    "assert min_impurity_ == 0.2727272727272727\n",
    "assert best_split_col_ == 0\n",
    "assert best_split_value_ == 43.5\n",
    "\n",
    "\n",
    "mask = X_test[:, best_split_col_] >= best_split_value_\n",
    "\n",
    "\n",
    "min_impurity_, best_split_col_, best_split_value_ = find_best_split(X_test[~mask], y_test[~mask], gini_index)\n",
    "assert min_impurity_ == 0.21428571428571433\n",
    "assert best_split_col_ == 1\n",
    "assert best_split_value_ == 95\n",
    "\n",
    "min_impurity_, best_split_col_, best_split_value_ = find_best_split(X_test[mask], y_test[mask], gini_index)\n",
    "assert min_impurity_ == 0\n",
    "assert best_split_col_ == 0\n",
    "assert best_split_value_ == 52"
   ]
  },
  {
   "cell_type": "code",
   "execution_count": 50,
   "metadata": {
    "id": "DJKqt0AVMwJP"
   },
   "outputs": [
    {
     "ename": "ValueError",
     "evalue": "The truth value of an array with more than one element is ambiguous. Use a.any() or a.all()",
     "output_type": "error",
     "traceback": [
      "\u001b[0;31m---------------------------------------------------------------------------\u001b[0m",
      "\u001b[0;31mValueError\u001b[0m                                Traceback (most recent call last)",
      "Cell \u001b[0;32mIn[50], line 45\u001b[0m\n\u001b[1;32m     41\u001b[0m y_test \u001b[38;5;241m=\u001b[39m data2[\u001b[38;5;124m'\u001b[39m\u001b[38;5;124mНевозврат кредита\u001b[39m\u001b[38;5;124m'\u001b[39m]\n\u001b[1;32m     43\u001b[0m clf \u001b[38;5;241m=\u001b[39m build_next_node(X_test, y_test, gini_index)\n\u001b[0;32m---> 45\u001b[0m \u001b[38;5;28;01massert\u001b[39;00m (\u001b[43mclf\u001b[49m\u001b[38;5;241;43m.\u001b[39;49m\u001b[43mpredict\u001b[49m\u001b[43m(\u001b[49m\u001b[43mX_test\u001b[49m\u001b[43m)\u001b[49m \u001b[38;5;241m==\u001b[39m y_test)\u001b[38;5;241m.\u001b[39mall()\n",
      "Cell \u001b[0;32mIn[41], line 26\u001b[0m, in \u001b[0;36mTreeNode.predict\u001b[0;34m(self, x)\u001b[0m\n\u001b[1;32m     24\u001b[0m     \u001b[38;5;28;01mreturn\u001b[39;00m \u001b[38;5;28mself\u001b[39m\u001b[38;5;241m.\u001b[39mtarget_value\n\u001b[1;32m     25\u001b[0m \u001b[38;5;28;01melse\u001b[39;00m:\n\u001b[0;32m---> 26\u001b[0m     \u001b[38;5;28;01mif\u001b[39;00m x[\u001b[38;5;28mself\u001b[39m\u001b[38;5;241m.\u001b[39mcondition_column] \u001b[38;5;241m<\u001b[39m\u001b[38;5;241m=\u001b[39m \u001b[38;5;28mself\u001b[39m\u001b[38;5;241m.\u001b[39mcondition_value:\n\u001b[1;32m     27\u001b[0m         \u001b[38;5;28;01mreturn\u001b[39;00m \u001b[38;5;28mself\u001b[39m\u001b[38;5;241m.\u001b[39mleft_child\u001b[38;5;241m.\u001b[39mpredict(x)\n\u001b[1;32m     28\u001b[0m     \u001b[38;5;28;01melse\u001b[39;00m:\n",
      "\u001b[0;31mValueError\u001b[0m: The truth value of an array with more than one element is ambiguous. Use a.any() or a.all()"
     ]
    }
   ],
   "source": [
    "def build_next_node(x: np.ndarray, y: np.ndarray, impurity_metric) -> TreeNode:\n",
    "    if len(np.unique(y)) == 1:\n",
    "        return TreeNode(\n",
    "            impurity=impurity_metric(y),\n",
    "            target_value=find_dominant_class(y),\n",
    "            is_leaf=True\n",
    "        )\n",
    "    \n",
    "    min_impurity, best_split_col, best_split_value = find_best_split(x, y, impurity_metric)\n",
    "    \n",
    "    if best_split_col is None:\n",
    "        return TreeNode(\n",
    "            impurity=impurity_metric(y),\n",
    "            target_value=find_dominant_class(y),\n",
    "            is_leaf=True\n",
    "        )\n",
    "    \n",
    "    left_mask = x[:, best_split_col] <= best_split_value\n",
    "    right_mask = ~left_mask\n",
    "    \n",
    "    left_child = build_next_node(x[left_mask], y[left_mask], impurity_metric)\n",
    "    right_child = build_next_node(x[right_mask], y[right_mask], impurity_metric)\n",
    "    \n",
    "    return TreeNode(\n",
    "        impurity=min_impurity,\n",
    "        condition_column=best_split_col,\n",
    "        condition_value=best_split_value,\n",
    "        left_child=left_child,\n",
    "        right_child=right_child,\n",
    "        is_leaf=False\n",
    "    )\n",
    "\n",
    "\n",
    "data2 = pd.DataFrame({\n",
    "    'Возраст':  [17,64,18,20,38,49,55,25,29,31,33], \n",
    "    'Зарплата': [25,80,22,36,37,59,74,70,33,102,88], \n",
    "    'Невозврат кредита': [1,0,1,0,1,0,0,1,1,0,1]\n",
    "})\n",
    "\n",
    "X_test = data2[['Возраст', 'Зарплата']].values\n",
    "y_test = data2['Невозврат кредита']\n",
    "\n",
    "clf = build_next_node(X_test, y_test, gini_index)\n",
    "\n",
    "assert np.all(clf.predict(X_test) == y_test)"
   ]
  },
  {
   "cell_type": "markdown",
   "metadata": {
    "id": "85MTk_bz0UtZ"
   },
   "source": [
    "## Визуализация предсказаний\n",
    "\n",
    "Рассмотрим как справляются с задачей классификации 3 алгоритма - линейный, ближайшие соседи и решающее дерево на синтетическом примере - две луны и кольца."
   ]
  },
  {
   "cell_type": "code",
   "execution_count": null,
   "metadata": {
    "id": "TxaApio80Utb"
   },
   "outputs": [],
   "source": [
    "# Вспомогательная функция для генерации точек на всей поверхности scatter plot\n",
    "def get_grid(X, y, step=0.01):\n",
    "    x_min, x_max = X.min() - 1, X.max() + 1\n",
    "    y_min, y_max = y.min() - 1, y.max() + 1\n",
    "    return np.meshgrid(np.arange(x_min, x_max, step),\n",
    "                         np.arange(y_min, y_max, step))\n",
    "\n",
    "# Вспомогательная функция которая покрасит всё пространство\n",
    "def fill_color(clf, X, y, cmap=plt.cm.RdYlBu, proba=True, step=0.01):\n",
    "    xx, yy = get_grid(X, y, step)\n",
    "    if proba and hasattr(clf, 'predict_proba'):\n",
    "        predicted = clf.predict_proba(np.c_[xx.ravel(), yy.ravel()])[:,1].reshape(xx.shape)\n",
    "    else:\n",
    "        predicted = clf.predict(np.c_[xx.ravel(), yy.ravel()]).reshape(xx.shape)\n",
    "    plt.contourf(xx, yy, predicted, cmap=cmap, alpha=.8)"
   ]
  },
  {
   "cell_type": "code",
   "execution_count": null,
   "metadata": {
    "colab": {
     "base_uri": "https://localhost:8080/",
     "height": 296
    },
    "executionInfo": {
     "elapsed": 326,
     "status": "ok",
     "timestamp": 1639730878473,
     "user": {
      "displayName": "Илья Сиганов",
      "photoUrl": "https://lh3.googleusercontent.com/a/default-user=s64",
      "userId": "11448722471696357981"
     },
     "user_tz": -360
    },
    "id": "9ITz-dJf0UvG",
    "outputId": "7f6195aa-d294-4851-d95c-dd1a27e7bd0e"
   },
   "outputs": [],
   "source": [
    "data2 = pd.DataFrame({\n",
    "  'Возраст':  [17,64,18,20,38,49,55,25,29,31,33], \n",
    "  'Зарплата': [25,80,22,36,37,59,74,70,33,102,88], \n",
    "  'Невозврат кредита': [1,0,1,0,1,0,0,1,1,0,1]\n",
    "})\n",
    "\n",
    "clf = DecisionTreeClassifier(random_state=42)\n",
    "clf.fit(data2[['Возраст', 'Зарплата']].values, data2['Невозврат кредита'].values)\n",
    "\n",
    "\n",
    "fill_color(clf, data2['Возраст'], data2['Зарплата'], cmap=plt.cm.RdYlBu, proba=False, step=0.2)\n",
    "plt.scatter(data2['Возраст'], data2['Зарплата'], c=data2['Невозврат кредита'], cmap=plt.cm.RdYlBu, edgecolors='k')\n",
    "plt.xlabel('Возраст')\n",
    "plt.ylabel('Зарплата')"
   ]
  },
  {
   "cell_type": "code",
   "execution_count": null,
   "metadata": {
    "colab": {
     "base_uri": "https://localhost:8080/",
     "height": 296
    },
    "executionInfo": {
     "elapsed": 7,
     "status": "ok",
     "timestamp": 1639730878473,
     "user": {
      "displayName": "Илья Сиганов",
      "photoUrl": "https://lh3.googleusercontent.com/a/default-user=s64",
      "userId": "11448722471696357981"
     },
     "user_tz": -360
    },
    "id": "Rdx-YiVVhS_u",
    "outputId": "50e67704-55c8-4446-db5e-4af618e7bbdd"
   },
   "outputs": [],
   "source": [
    "data2 = pd.DataFrame({\n",
    "  'Возраст':  [17,64,18,20,38,49,55,25,29,31,33], \n",
    "  'Зарплата': [25,80,22,36,37,59,74,70,33,102,88], \n",
    "  'Невозврат кредита': [1,0,1,0,1,0,0,1,1,0,1]\n",
    "})\n",
    "\n",
    "clf = build_next_node(\n",
    "  data2[['Возраст', 'Зарплата']].values,\n",
    "  data2['Невозврат кредита'].values,\n",
    "  gini_index\n",
    ")\n",
    "\n",
    "fill_color(clf, data2['Возраст'], data2['Зарплата'], cmap=plt.cm.RdYlBu, proba=False, step=0.2)\n",
    "plt.scatter(data2['Возраст'], data2['Зарплата'], c=data2['Невозврат кредита'], cmap=plt.cm.RdYlBu, edgecolors='k')\n",
    "plt.xlabel('Возраст')\n",
    "plt.ylabel('Зарплата')"
   ]
  },
  {
   "cell_type": "markdown",
   "metadata": {
    "id": "lBg3loIt0Utn"
   },
   "source": [
    "## Две Луны"
   ]
  },
  {
   "cell_type": "code",
   "execution_count": null,
   "metadata": {
    "id": "7yALzaur0Uth"
   },
   "outputs": [],
   "source": [
    "from sklearn.datasets import make_moons, make_circles, make_classification"
   ]
  },
  {
   "cell_type": "code",
   "execution_count": null,
   "metadata": {
    "colab": {
     "base_uri": "https://localhost:8080/",
     "height": 609
    },
    "executionInfo": {
     "elapsed": 627,
     "status": "ok",
     "timestamp": 1639730879096,
     "user": {
      "displayName": "Илья Сиганов",
      "photoUrl": "https://lh3.googleusercontent.com/a/default-user=s64",
      "userId": "11448722471696357981"
     },
     "user_tz": -360
    },
    "id": "TcC5XB0V0Utp",
    "outputId": "612ecc95-5c15-40a2-a38c-34665d5157f2"
   },
   "outputs": [],
   "source": [
    "X, y = make_moons(n_samples=150, noise=0.3, random_state=42)\n",
    "\n",
    "plt.figure(figsize=(10,10))\n",
    "\n",
    "plt.scatter(X[:,0], X[:,1], c=y, cmap=plt.cm.RdYlBu, edgecolor='black', s=150)"
   ]
  },
  {
   "cell_type": "markdown",
   "metadata": {
    "id": "Y_Pw2Ob40Utv"
   },
   "source": [
    "Для начала посмотрим, как с задачей справится линейная регрессия. Дополнительно вызвав функцию `fill_color` покрасим все пространство, чтобы видеть как меняется решение модели, на основе плавного изменения признка.  \n",
    "Понятно, почему мы видим линии как разделители поверхностей. У нас же линейная модель!"
   ]
  },
  {
   "cell_type": "code",
   "execution_count": null,
   "metadata": {
    "colab": {
     "base_uri": "https://localhost:8080/",
     "height": 609
    },
    "executionInfo": {
     "elapsed": 852,
     "status": "ok",
     "timestamp": 1639730879942,
     "user": {
      "displayName": "Илья Сиганов",
      "photoUrl": "https://lh3.googleusercontent.com/a/default-user=s64",
      "userId": "11448722471696357981"
     },
     "user_tz": -360
    },
    "id": "-AgKdvTo0Utx",
    "outputId": "dd486606-97d8-4331-a1eb-71a463d5e162"
   },
   "outputs": [],
   "source": [
    "from sklearn.linear_model import LogisticRegression\n",
    "\n",
    "clf = LogisticRegression(solver='lbfgs')\n",
    "clf.fit(X, y)\n",
    "\n",
    "plt.figure(figsize=(10,10))\n",
    "fill_color(clf, X, y, cmap=plt.cm.RdYlBu)\n",
    "plt.scatter(X[:,0], X[:,1], c=y, cmap=plt.cm.RdYlBu, edgecolor='black', s=150)"
   ]
  },
  {
   "cell_type": "markdown",
   "metadata": {
    "id": "I3lzfkk80Ut4"
   },
   "source": [
    "А K ближайших соседей работает немного по-другому. Видно, что это модель может уловить нелинейную взаимосвзять между признаками и целевым признаком. Пространство предсказания разукрасилось плавно."
   ]
  },
  {
   "cell_type": "code",
   "execution_count": null,
   "metadata": {
    "colab": {
     "base_uri": "https://localhost:8080/",
     "height": 609
    },
    "executionInfo": {
     "elapsed": 8300,
     "status": "ok",
     "timestamp": 1639730888238,
     "user": {
      "displayName": "Илья Сиганов",
      "photoUrl": "https://lh3.googleusercontent.com/a/default-user=s64",
      "userId": "11448722471696357981"
     },
     "user_tz": -360
    },
    "id": "j2pzWL7D0Ut5",
    "outputId": "3ed0da3b-7113-404a-f375-136cd88d0697"
   },
   "outputs": [],
   "source": [
    "from sklearn.neighbors import KNeighborsClassifier\n",
    "clf = KNeighborsClassifier(7)\n",
    "clf.fit(X, y)\n",
    "\n",
    "plt.figure(figsize=(10,10))\n",
    "fill_color(clf, X, y, cmap=plt.cm.RdYlBu, proba=False)\n",
    "plt.scatter(X[:,0], X[:,1], c=y, cmap=plt.cm.RdYlBu, edgecolor='black', s=150)"
   ]
  },
  {
   "cell_type": "markdown",
   "metadata": {
    "id": "psAKCQiC0Ut_"
   },
   "source": [
    "Решающие деревья разбивают пространство на прямоугольники, \"выцепляя\" объекты."
   ]
  },
  {
   "cell_type": "code",
   "execution_count": null,
   "metadata": {
    "colab": {
     "base_uri": "https://localhost:8080/",
     "height": 609
    },
    "executionInfo": {
     "elapsed": 18,
     "status": "ok",
     "timestamp": 1639730888239,
     "user": {
      "displayName": "Илья Сиганов",
      "photoUrl": "https://lh3.googleusercontent.com/a/default-user=s64",
      "userId": "11448722471696357981"
     },
     "user_tz": -360
    },
    "id": "-0y8dogy0UuB",
    "outputId": "44e206d0-ac25-4aac-9e5a-c56bba881202"
   },
   "outputs": [],
   "source": [
    "from sklearn.tree import DecisionTreeClassifier\n",
    "\n",
    "clf = DecisionTreeClassifier()\n",
    "clf.fit(X, y)\n",
    "\n",
    "plt.figure(figsize=(10,10))\n",
    "fill_color(clf, X, y, cmap=plt.cm.RdYlBu)\n",
    "plt.scatter(X[:,0], X[:,1], c=y, cmap=plt.cm.RdYlBu, edgecolor='black', s=150)"
   ]
  },
  {
   "cell_type": "code",
   "execution_count": null,
   "metadata": {
    "colab": {
     "base_uri": "https://localhost:8080/",
     "height": 609
    },
    "executionInfo": {
     "elapsed": 839,
     "status": "ok",
     "timestamp": 1639730889065,
     "user": {
      "displayName": "Илья Сиганов",
      "photoUrl": "https://lh3.googleusercontent.com/a/default-user=s64",
      "userId": "11448722471696357981"
     },
     "user_tz": -360
    },
    "id": "xhQGh2me03Dd",
    "outputId": "5cc4126d-6709-45ef-a8d6-2314b1079977"
   },
   "outputs": [],
   "source": [
    "clf = build_next_node(X, y, gini_index)\n",
    "\n",
    "plt.figure(figsize=(10,10))\n",
    "fill_color(clf, X, y, cmap=plt.cm.RdYlBu)\n",
    "plt.scatter(X[:,0], X[:,1], c=y, cmap=plt.cm.RdYlBu, edgecolor='black', s=150)"
   ]
  },
  {
   "cell_type": "code",
   "execution_count": null,
   "metadata": {
    "colab": {
     "base_uri": "https://localhost:8080/",
     "height": 609
    },
    "executionInfo": {
     "elapsed": 1069,
     "status": "ok",
     "timestamp": 1639730890128,
     "user": {
      "displayName": "Илья Сиганов",
      "photoUrl": "https://lh3.googleusercontent.com/a/default-user=s64",
      "userId": "11448722471696357981"
     },
     "user_tz": -360
    },
    "id": "TBoskghPUlMd",
    "outputId": "e16b5f7e-58cb-43f7-8b76-cf553fa0c0f2"
   },
   "outputs": [],
   "source": [
    "clf = build_next_node(X, y, entropy)\n",
    "\n",
    "plt.figure(figsize=(10,10))\n",
    "fill_color(clf, X, y, cmap=plt.cm.RdYlBu)\n",
    "plt.scatter(X[:,0], X[:,1], c=y, cmap=plt.cm.RdYlBu, edgecolor='black', s=150)"
   ]
  },
  {
   "cell_type": "markdown",
   "metadata": {
    "id": "volBxb6T0UuH"
   },
   "source": [
    "## Кольца"
   ]
  },
  {
   "cell_type": "code",
   "execution_count": null,
   "metadata": {
    "colab": {
     "base_uri": "https://localhost:8080/",
     "height": 609
    },
    "executionInfo": {
     "elapsed": 821,
     "status": "ok",
     "timestamp": 1639730890942,
     "user": {
      "displayName": "Илья Сиганов",
      "photoUrl": "https://lh3.googleusercontent.com/a/default-user=s64",
      "userId": "11448722471696357981"
     },
     "user_tz": -360
    },
    "id": "oMMQVQ5R0UuK",
    "outputId": "84c86b11-2cef-4926-dbd7-fe366e653be6"
   },
   "outputs": [],
   "source": [
    "X, y = make_circles(n_samples=150, noise=0.2, factor=0.5, random_state=1)\n",
    "\n",
    "plt.figure(figsize=(10,10))\n",
    "\n",
    "plt.scatter(X[:,0], X[:,1], c=y, cmap=plt.cm.RdYlBu, edgecolor='black', s=150)"
   ]
  },
  {
   "cell_type": "markdown",
   "metadata": {
    "id": "44bw953j0UuS"
   },
   "source": [
    "Линейной модели совсем сложно справиться с такой задачей, так как объекты невозможно отделить одной прямой линией. (Но если применить трюк с переходом в другие координаты......)"
   ]
  },
  {
   "cell_type": "code",
   "execution_count": null,
   "metadata": {
    "colab": {
     "base_uri": "https://localhost:8080/",
     "height": 609
    },
    "executionInfo": {
     "elapsed": 851,
     "status": "ok",
     "timestamp": 1639730891788,
     "user": {
      "displayName": "Илья Сиганов",
      "photoUrl": "https://lh3.googleusercontent.com/a/default-user=s64",
      "userId": "11448722471696357981"
     },
     "user_tz": -360
    },
    "id": "rocJO6uu0UuT",
    "outputId": "afab6355-1352-4248-c9cf-6ca5bd4ec21c"
   },
   "outputs": [],
   "source": [
    "from sklearn.linear_model import LogisticRegression\n",
    "\n",
    "clf = LogisticRegression(solver='lbfgs')\n",
    "clf.fit(X, y)\n",
    "\n",
    "plt.figure(figsize=(10,10))\n",
    "fill_color(clf, X, y, cmap=plt.cm.RdYlBu)\n",
    "plt.scatter(X[:,0], X[:,1], c=y, cmap=plt.cm.RdYlBu, edgecolor='black', s=150)"
   ]
  },
  {
   "cell_type": "code",
   "execution_count": null,
   "metadata": {
    "colab": {
     "base_uri": "https://localhost:8080/",
     "height": 609
    },
    "executionInfo": {
     "elapsed": 8308,
     "status": "ok",
     "timestamp": 1639730900093,
     "user": {
      "displayName": "Илья Сиганов",
      "photoUrl": "https://lh3.googleusercontent.com/a/default-user=s64",
      "userId": "11448722471696357981"
     },
     "user_tz": -360
    },
    "id": "s6guqdzo0UuZ",
    "outputId": "0dfa1201-9853-4172-ef80-988dc266e4fd"
   },
   "outputs": [],
   "source": [
    "clf = KNeighborsClassifier(7)\n",
    "clf.fit(X, y)\n",
    "\n",
    "plt.figure(figsize=(10,10))\n",
    "fill_color(clf, X, y, cmap=plt.cm.RdYlBu, proba=False)\n",
    "plt.scatter(X[:,0], X[:,1], c=y, cmap=plt.cm.RdYlBu, edgecolor='black', s=150)"
   ]
  },
  {
   "cell_type": "code",
   "execution_count": null,
   "metadata": {
    "colab": {
     "base_uri": "https://localhost:8080/",
     "height": 609
    },
    "executionInfo": {
     "elapsed": 885,
     "status": "ok",
     "timestamp": 1639730900946,
     "user": {
      "displayName": "Илья Сиганов",
      "photoUrl": "https://lh3.googleusercontent.com/a/default-user=s64",
      "userId": "11448722471696357981"
     },
     "user_tz": -360
    },
    "id": "DzYTrIHk0Uud",
    "outputId": "22cb0f0d-902a-4e1d-b872-5892a3a8136e"
   },
   "outputs": [],
   "source": [
    "from sklearn.tree import DecisionTreeClassifier\n",
    "\n",
    "clf = DecisionTreeClassifier()\n",
    "clf.fit(X, y)\n",
    "\n",
    "plt.figure(figsize=(10,10))\n",
    "fill_color(clf, X, y, cmap=plt.cm.RdYlBu)\n",
    "plt.scatter(X[:,0], X[:,1], c=y, cmap=plt.cm.RdYlBu, edgecolor='black', s=150)"
   ]
  },
  {
   "cell_type": "code",
   "execution_count": null,
   "metadata": {
    "colab": {
     "base_uri": "https://localhost:8080/",
     "height": 609
    },
    "executionInfo": {
     "elapsed": 18,
     "status": "ok",
     "timestamp": 1639730900947,
     "user": {
      "displayName": "Илья Сиганов",
      "photoUrl": "https://lh3.googleusercontent.com/a/default-user=s64",
      "userId": "11448722471696357981"
     },
     "user_tz": -360
    },
    "id": "m0y5oOu8fV28",
    "outputId": "503a1dd8-cc1e-4bb2-b7a6-77a93a9a7f38"
   },
   "outputs": [],
   "source": [
    "clf = build_next_node(X, y, gini_index)\n",
    "\n",
    "plt.figure(figsize=(10,10))\n",
    "fill_color(clf, X, y, cmap=plt.cm.RdYlBu)\n",
    "plt.scatter(X[:,0], X[:,1], c=y, cmap=plt.cm.RdYlBu, edgecolor='black', s=150)"
   ]
  },
  {
   "cell_type": "code",
   "execution_count": null,
   "metadata": {
    "colab": {
     "base_uri": "https://localhost:8080/",
     "height": 609
    },
    "executionInfo": {
     "elapsed": 687,
     "status": "ok",
     "timestamp": 1639730901625,
     "user": {
      "displayName": "Илья Сиганов",
      "photoUrl": "https://lh3.googleusercontent.com/a/default-user=s64",
      "userId": "11448722471696357981"
     },
     "user_tz": -360
    },
    "id": "4CaqBGcsVAVf",
    "outputId": "afd8728b-f54a-4639-8161-5f75f64c8568"
   },
   "outputs": [],
   "source": [
    "clf = build_next_node(X, y, entropy)\n",
    "\n",
    "plt.figure(figsize=(10,10))\n",
    "fill_color(clf, X, y, cmap=plt.cm.RdYlBu)\n",
    "plt.scatter(X[:,0], X[:,1], c=y, cmap=plt.cm.RdYlBu, edgecolor='black', s=150)"
   ]
  },
  {
   "cell_type": "markdown",
   "metadata": {
    "id": "2K-crG6v0Uuk"
   },
   "source": [
    "## Неустойчивость деревьев\n",
    "\n",
    "Неустойчивость к изменениям в данных.\n",
    "\n",
    "В отличие от весьма стабильных алгоритмов kNN и линейной классификации, дерево решений очень сильно меняется в зависимости от фазы луны и формы данных. Если мы добавим еще один элемент, то может всё сильно измениться, давайте посмотрим!\n",
    "\n",
    "**Спойлер**: но этот недостаток делает их сильнее, когда их много!!"
   ]
  },
  {
   "cell_type": "code",
   "execution_count": null,
   "metadata": {
    "colab": {
     "base_uri": "https://localhost:8080/",
     "height": 935
    },
    "executionInfo": {
     "elapsed": 7805,
     "status": "ok",
     "timestamp": 1639730909425,
     "user": {
      "displayName": "Илья Сиганов",
      "photoUrl": "https://lh3.googleusercontent.com/a/default-user=s64",
      "userId": "11448722471696357981"
     },
     "user_tz": -360
    },
    "id": "uK1T4Yg80Uul",
    "outputId": "a35ae0b6-ee75-46fa-fe52-e2e75902b9f8"
   },
   "outputs": [],
   "source": [
    "X, y = make_circles(n_samples=150, noise=0.2, factor=0.5, random_state=1)\n",
    "\n",
    "plt.figure(figsize=(16,16))\n",
    "\n",
    "X1, y1 = X[40:], y[40:]\n",
    "X2, y2 = X[:110], y[:110]\n",
    "\n",
    "#################### Tree ##################\n",
    "\n",
    "clf = build_next_node(X1, y1, gini_index)\n",
    "plt.subplot(221)\n",
    "fill_color(clf, X, y, cmap=plt.cm.RdYlBu)\n",
    "plt.scatter(X[:,0], X[:,1], c=y, cmap=plt.cm.RdYlBu, edgecolor='black', s=20)\n",
    "\n",
    "clf = build_next_node(X2, y2, gini_index)\n",
    "plt.subplot(222)\n",
    "fill_color(clf, X, y, cmap=plt.cm.RdYlBu)\n",
    "plt.scatter(X[:,0], X[:,1], c=y, cmap=plt.cm.RdYlBu, edgecolor='black', s=20)\n",
    "\n",
    "#################### KNN ########################\n",
    "\n",
    "clf = KNeighborsClassifier(5)\n",
    "clf.fit(X1, y1)\n",
    "plt.subplot(223)\n",
    "fill_color(clf, X, y, cmap=plt.cm.RdYlBu, proba=False)\n",
    "plt.scatter(X[:,0], X[:,1], c=y, cmap=plt.cm.RdYlBu, edgecolor='black', s=20)\n",
    "\n",
    "clf = KNeighborsClassifier(5)\n",
    "clf.fit(X2, y2)\n",
    "plt.subplot(224)\n",
    "fill_color(clf, X, y, cmap=plt.cm.RdYlBu, proba=False)\n",
    "plt.scatter(X[:,0], X[:,1], c=y, cmap=plt.cm.RdYlBu, edgecolor='black', s=20)"
   ]
  },
  {
   "cell_type": "markdown",
   "metadata": {
    "id": "4paZIsd76lWe"
   },
   "source": [
    "## Регрессия\n"
   ]
  },
  {
   "cell_type": "markdown",
   "metadata": {
    "id": "HphVk8Riypj2"
   },
   "source": [
    "Теперь реализуем метрику под названием Остаточная Сумма Квадратов (Residual sum of squares).\n",
    "\n",
    "$RSS = \\sum_{j=1}^N(y_j - \\mu_{[j]})^2$\n",
    "\n",
    "где $\\mu_{[j]}$ - это среднее всех значений из разбиения, к которому принадлежит $j$-й элемент."
   ]
  },
  {
   "cell_type": "code",
   "execution_count": null,
   "metadata": {
    "id": "3uNUX6n6y9Xd"
   },
   "outputs": [],
   "source": [
    "def residual_sum_of_squares(y):\n",
    "    # поскольку метрику мы считаем для каждого разбиения отдельно, то мы можем брать здесь среднее от всей выборки, т.к. по сути здесь у нас всего один узел\n",
    "    return np.sum(np.power(y - y.mean(), 2))"
   ]
  },
  {
   "cell_type": "markdown",
   "metadata": {
    "id": "8x6rm0Layz_3"
   },
   "source": [
    "Теперь настало время переделать нашу функцию под регрессию. Первая и самая важная вещь, которую стоит помнить это то, что в отличие от классификации, здесь все значения могут быть уникальными и их может быть бесконечно много (если, конечно, игнорировать ограничения, диктуемые нам \"железом\").\n",
    "\n",
    "Давайте вспомним наши критерии останова, взятые для классификации:\n",
    "- В текущем узле все элементы относятся к одному классу\n",
    "- Information Gain наилучшего возможного разбиения отрицательный\n",
    "\n",
    "Сразу же можно понять, что первый критерий теперь не подходит нам, т.к. он всегда будет приводить нас к переобученному дереву (тому, у которого на каждый элемент выборки приходится свой отдельный лист)\n",
    "В такой ситуации возможны, как минимум, три выхода:\n",
    "1. Оставить его как есть и получать в конце переобученное дерево (впрочем, в sklearn так и делают)\n",
    "2. Ввести дополнительные ограничения, например на глубину дерева, минимальное количество объектов, относящихся к каждому листу дерева (есть в sklearn как опции)\n",
    "3. Останавливать обучение, когда достигнута какая-то величина метрики неопределённости - по сути говоря, это почти то же самое, что задавать максимальную допустимую величину разности между двумя произвольными объектами в этом разбиении. Такой способ не требует никаких дополнительных условий, но это не очень надёжный способ, т.к. величина RSS напрямую зависит от масштаба характеристических признаков.\n",
    "\n",
    "Ещё можно \"обрезать\" переобученное дерево после построения, как советовали Брейман и Ко в описании алгоритма CART. Но это уже совсем другая история...\n",
    "\n",
    "Так, ладно, сначала попробуем натренировать дерево регрессии не меняя алгоритм. Оно должно получиться глубоким, но точным."
   ]
  },
  {
   "cell_type": "markdown",
   "metadata": {
    "id": "PB8rI-Jwy9m0"
   },
   "source": [
    "Для этого загрузим датасет с ценами на жильё в Бостоне. Будем тестировать модель, предсказывая медианное значение цены на несъёмное жильё."
   ]
  },
  {
   "cell_type": "code",
   "execution_count": null,
   "metadata": {
    "colab": {
     "base_uri": "https://localhost:8080/"
    },
    "executionInfo": {
     "elapsed": 47,
     "status": "ok",
     "timestamp": 1639730909426,
     "user": {
      "displayName": "Илья Сиганов",
      "photoUrl": "https://lh3.googleusercontent.com/a/default-user=s64",
      "userId": "11448722471696357981"
     },
     "user_tz": -360
    },
    "id": "vIu4TtAP7SsK",
    "outputId": "2b9a5525-dd49-4122-9bf7-b5d90d83ce94"
   },
   "outputs": [],
   "source": [
    "from sklearn.datasets import load_boston\n",
    "\n",
    "data = load_boston()\n",
    "print(data.DESCR)"
   ]
  },
  {
   "cell_type": "code",
   "execution_count": null,
   "metadata": {
    "colab": {
     "base_uri": "https://localhost:8080/",
     "height": 206
    },
    "executionInfo": {
     "elapsed": 22,
     "status": "ok",
     "timestamp": 1639730909426,
     "user": {
      "displayName": "Илья Сиганов",
      "photoUrl": "https://lh3.googleusercontent.com/a/default-user=s64",
      "userId": "11448722471696357981"
     },
     "user_tz": -360
    },
    "id": "wjynGSFn80_o",
    "outputId": "5f73a87a-83dc-441c-e1b6-db3911ab1e24"
   },
   "outputs": [],
   "source": [
    "df = pd.DataFrame(data.data, columns=data.feature_names)\n",
    "df['MEDV'] = data.target\n",
    "df.head()"
   ]
  },
  {
   "cell_type": "code",
   "execution_count": null,
   "metadata": {
    "id": "PpocEihI83Ro"
   },
   "outputs": [],
   "source": [
    "from sklearn.model_selection import train_test_split\n",
    "\n",
    "X, X_test, y, y_test = train_test_split(df.drop(['MEDV'], axis=1), df['MEDV'], test_size=100, \n",
    "                                        random_state=241)"
   ]
  },
  {
   "cell_type": "code",
   "execution_count": null,
   "metadata": {
    "colab": {
     "base_uri": "https://localhost:8080/",
     "height": 282
    },
    "executionInfo": {
     "elapsed": 21,
     "status": "ok",
     "timestamp": 1639730909427,
     "user": {
      "displayName": "Илья Сиганов",
      "photoUrl": "https://lh3.googleusercontent.com/a/default-user=s64",
      "userId": "11448722471696357981"
     },
     "user_tz": -360
    },
    "id": "K8niQOuB7lMy",
    "outputId": "9035edcf-eae0-4420-a67e-706bafb4d77c"
   },
   "outputs": [],
   "source": [
    "from sklearn.tree import DecisionTreeRegressor\n",
    "\n",
    "clf = DecisionTreeRegressor()\n",
    "clf.fit(X, y)\n",
    "\n",
    "plt.scatter(y_test, y_test, color='green', s=1)  # идеальная прямая, чтобы было\n",
    "plt.scatter(y, clf.predict(X), color='blue', s=5)\n",
    "plt.scatter(y_test, clf.predict(X_test), color='red', s=30)"
   ]
  },
  {
   "cell_type": "markdown",
   "metadata": {
    "id": "GiVCLdqhMwJU"
   },
   "source": [
    "Выведем, сколько у дерева получилось листьев."
   ]
  },
  {
   "cell_type": "code",
   "execution_count": null,
   "metadata": {
    "colab": {
     "base_uri": "https://localhost:8080/"
    },
    "executionInfo": {
     "elapsed": 16,
     "status": "ok",
     "timestamp": 1639730909427,
     "user": {
      "displayName": "Илья Сиганов",
      "photoUrl": "https://lh3.googleusercontent.com/a/default-user=s64",
      "userId": "11448722471696357981"
     },
     "user_tz": -360
    },
    "id": "eFml1-XesrIt",
    "outputId": "3a37e198-bced-4b54-c42d-0b9ed8b3ae14"
   },
   "outputs": [],
   "source": [
    "clf.get_n_leaves()"
   ]
  },
  {
   "cell_type": "markdown",
   "metadata": {
    "id": "vhXTdYXSMwJU"
   },
   "source": [
    "А теперь давайте сделаем \"правильную\" версию с регрессией. Можно использовать старый метод, изменить нужно всего-лишь пару строк."
   ]
  },
  {
   "cell_type": "code",
   "execution_count": null,
   "metadata": {
    "id": "y0DxBHQRs2TV"
   },
   "outputs": [],
   "source": [
    "def count_leaves(node):\n",
    "    if node.is_leaf:\n",
    "        return 1\n",
    "    return count_leaves(node.left_child) + count_leaves(node.right_child)"
   ]
  },
  {
   "cell_type": "code",
   "execution_count": null,
   "metadata": {
    "id": "6bH7SvO_joV7"
   },
   "outputs": [],
   "source": [
    "def build_next_node_regression(x: np.ndarray, y: np.ndarray, impurity_metric) -> TreeNode:\n",
    "    pass"
   ]
  },
  {
   "cell_type": "code",
   "execution_count": null,
   "metadata": {
    "colab": {
     "base_uri": "https://localhost:8080/",
     "height": 282
    },
    "executionInfo": {
     "elapsed": 1217,
     "status": "ok",
     "timestamp": 1639730911666,
     "user": {
      "displayName": "Илья Сиганов",
      "photoUrl": "https://lh3.googleusercontent.com/a/default-user=s64",
      "userId": "11448722471696357981"
     },
     "user_tz": -360
    },
    "id": "jWO3u6ZaCaaO",
    "outputId": "40d62450-e8c2-4e50-9855-ec78bd4233b4"
   },
   "outputs": [],
   "source": [
    "clf = build_next_node_regression(X.to_numpy(), y.to_numpy(), residual_sum_of_squares)\n",
    "\n",
    "plt.scatter(y_test, y_test, color='green', s=10)  # идеальная прямая, чтобы было\n",
    "plt.scatter(y, clf.predict(X.to_numpy()), color='blue', s=5)\n",
    "plt.scatter(y_test, clf.predict(X_test.to_numpy()), color='red', s=30)"
   ]
  },
  {
   "cell_type": "code",
   "execution_count": null,
   "metadata": {
    "colab": {
     "base_uri": "https://localhost:8080/"
    },
    "executionInfo": {
     "elapsed": 29,
     "status": "ok",
     "timestamp": 1639730911669,
     "user": {
      "displayName": "Илья Сиганов",
      "photoUrl": "https://lh3.googleusercontent.com/a/default-user=s64",
      "userId": "11448722471696357981"
     },
     "user_tz": -360
    },
    "id": "FSm_10j6tgOV",
    "outputId": "283b3576-9356-4c3b-f2eb-5c83913a3fac"
   },
   "outputs": [],
   "source": [
    "count_leaves(clf)"
   ]
  },
  {
   "cell_type": "markdown",
   "metadata": {
    "id": "0gnhtE46MwJV"
   },
   "source": [
    "### А что дальше?\n",
    "\n",
    "Над деревьями можно делать много разных модификаций:\n",
    "- Урезать глубину дерева\n",
    "- Запрещать создавать листья с менее чем $k$ элементами выборки на них\n",
    "- модифицировать логику выбора класса, если на листе есть элементы разных классов\n",
    "    - Вычислить вероятности выпадения каждого класса, тем самым задав распределение, и затем, при попадании на этот лист генерировать случайную величину из этого распределения, и считать это предсказанием\n",
    "    - Так же, вычислить вероятности, а величину выбрать один раз сгенерировав случайную величину\n",
    "- Объединить много таких деревьев в ансамбли (пожалуй, наиболее перспективная идея)\n"
   ]
  }
 ],
 "metadata": {
  "colab": {
   "collapsed_sections": [],
   "name": " 02-ws-decision-trees_for_class.ipynb",
   "provenance": []
  },
  "kernelspec": {
   "display_name": "Python 3 (ipykernel)",
   "language": "python",
   "name": "python3"
  },
  "language_info": {
   "codemirror_mode": {
    "name": "ipython",
    "version": 3
   },
   "file_extension": ".py",
   "mimetype": "text/x-python",
   "name": "python",
   "nbconvert_exporter": "python",
   "pygments_lexer": "ipython3",
   "version": "3.10.12"
  }
 },
 "nbformat": 4,
 "nbformat_minor": 4
}
