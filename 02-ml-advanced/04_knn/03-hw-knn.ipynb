{
 "cells": [
  {
   "cell_type": "markdown",
   "metadata": {
    "colab_type": "text",
    "id": "6E3ZEkkwRk1J"
   },
   "source": [
    "# 6.1 Классификация.Соискатели\n",
    "\n",
    "1. Скачайте этот ноутбук к себе.\n",
    "2. Заполните пропущенные ячейки, отвечая на заданные вопросы. Там должен быть код! (если не сказано обратное)\n",
    "3. Отправьте результат нам\n",
    "\n",
    "### Полезная литература\n",
    "\n",
    "- [ODS - классификация](https://habrahabr.ru/company/ods/blog/322534/)\n",
    "- [Коллаборативная фильтрация - рекомендательная система](https://ru.wikipedia.org/wiki/%D0%9A%D0%BE%D0%BB%D0%BB%D0%B0%D0%B1%D0%BE%D1%80%D0%B0%D1%82%D0%B8%D0%B2%D0%BD%D0%B0%D1%8F_%D1%84%D0%B8%D0%BB%D1%8C%D1%82%D1%80%D0%B0%D1%86%D0%B8%D1%8F)\n",
    "- [Метрики расстояний - косинусная, минковского, проклятье размерности ](http://www.machinelearning.ru/wiki/images/9/9a/Sem1_knn.pdf)\n",
    "- [Offtop: метрики качества рекомендательных систем](https://habrahabr.ru/company/dca/blog/281066/)"
   ]
  },
  {
   "cell_type": "markdown",
   "metadata": {
    "colab_type": "text",
    "id": "2SjTJ7fkRk1N"
   },
   "source": [
    "## kNN - ближайшие соседи (15 баллов)\n",
    "\n",
    "Рассмотрим задачу из соревнования [Amazon Employee Access Challenge](https://www.kaggle.com/c/amazon-employee-access-challenge).\n",
    "\n",
    "В данной задаче предлагается предсказать, будет ли одобрен запрос сотрудника на получение доступа к тому или иному ресурсу. Все признаки являются категориальными."
   ]
  },
  {
   "cell_type": "code",
   "execution_count": 3,
   "metadata": {
    "colab": {},
    "colab_type": "code",
    "id": "Pq1-n6enRk1Q"
   },
   "outputs": [],
   "source": [
    "%matplotlib inline\n",
    "import pandas as pd\n",
    "import numpy as np\n",
    "from matplotlib import pyplot as plt\n",
    "import seaborn as sns\n",
    "from sklearn.model_selection import train_test_split, KFold, cross_val_score\n",
    "from sklearn.neighbors import KNeighborsClassifier\n",
    "from sklearn.metrics import classification_report, confusion_matrix, f1_score\n",
    "from sklearn.preprocessing import scale"
   ]
  },
  {
   "cell_type": "code",
   "execution_count": 7,
   "metadata": {
    "colab": {
     "base_uri": "https://localhost:8080/",
     "height": 204
    },
    "colab_type": "code",
    "id": "1dag_dZ9Rk1c",
    "outputId": "d68ee7d4-9b79-47a9-d255-d4e77dcf4532"
   },
   "outputs": [
    {
     "data": {
      "text/html": [
       "<div>\n",
       "<style scoped>\n",
       "    .dataframe tbody tr th:only-of-type {\n",
       "        vertical-align: middle;\n",
       "    }\n",
       "\n",
       "    .dataframe tbody tr th {\n",
       "        vertical-align: top;\n",
       "    }\n",
       "\n",
       "    .dataframe thead th {\n",
       "        text-align: right;\n",
       "    }\n",
       "</style>\n",
       "<table border=\"1\" class=\"dataframe\">\n",
       "  <thead>\n",
       "    <tr style=\"text-align: right;\">\n",
       "      <th></th>\n",
       "      <th>ACTION</th>\n",
       "      <th>RESOURCE</th>\n",
       "      <th>MGR_ID</th>\n",
       "      <th>ROLE_ROLLUP_1</th>\n",
       "      <th>ROLE_ROLLUP_2</th>\n",
       "      <th>ROLE_DEPTNAME</th>\n",
       "      <th>ROLE_TITLE</th>\n",
       "      <th>ROLE_FAMILY_DESC</th>\n",
       "      <th>ROLE_FAMILY</th>\n",
       "      <th>ROLE_CODE</th>\n",
       "    </tr>\n",
       "  </thead>\n",
       "  <tbody>\n",
       "    <tr>\n",
       "      <th>0</th>\n",
       "      <td>1</td>\n",
       "      <td>39353</td>\n",
       "      <td>85475</td>\n",
       "      <td>117961</td>\n",
       "      <td>118300</td>\n",
       "      <td>123472</td>\n",
       "      <td>117905</td>\n",
       "      <td>117906</td>\n",
       "      <td>290919</td>\n",
       "      <td>117908</td>\n",
       "    </tr>\n",
       "    <tr>\n",
       "      <th>1</th>\n",
       "      <td>1</td>\n",
       "      <td>17183</td>\n",
       "      <td>1540</td>\n",
       "      <td>117961</td>\n",
       "      <td>118343</td>\n",
       "      <td>123125</td>\n",
       "      <td>118536</td>\n",
       "      <td>118536</td>\n",
       "      <td>308574</td>\n",
       "      <td>118539</td>\n",
       "    </tr>\n",
       "    <tr>\n",
       "      <th>2</th>\n",
       "      <td>1</td>\n",
       "      <td>36724</td>\n",
       "      <td>14457</td>\n",
       "      <td>118219</td>\n",
       "      <td>118220</td>\n",
       "      <td>117884</td>\n",
       "      <td>117879</td>\n",
       "      <td>267952</td>\n",
       "      <td>19721</td>\n",
       "      <td>117880</td>\n",
       "    </tr>\n",
       "    <tr>\n",
       "      <th>3</th>\n",
       "      <td>1</td>\n",
       "      <td>36135</td>\n",
       "      <td>5396</td>\n",
       "      <td>117961</td>\n",
       "      <td>118343</td>\n",
       "      <td>119993</td>\n",
       "      <td>118321</td>\n",
       "      <td>240983</td>\n",
       "      <td>290919</td>\n",
       "      <td>118322</td>\n",
       "    </tr>\n",
       "    <tr>\n",
       "      <th>4</th>\n",
       "      <td>1</td>\n",
       "      <td>42680</td>\n",
       "      <td>5905</td>\n",
       "      <td>117929</td>\n",
       "      <td>117930</td>\n",
       "      <td>119569</td>\n",
       "      <td>119323</td>\n",
       "      <td>123932</td>\n",
       "      <td>19793</td>\n",
       "      <td>119325</td>\n",
       "    </tr>\n",
       "  </tbody>\n",
       "</table>\n",
       "</div>"
      ],
      "text/plain": [
       "   ACTION  RESOURCE  MGR_ID  ROLE_ROLLUP_1  ROLE_ROLLUP_2  ROLE_DEPTNAME  \\\n",
       "0       1     39353   85475         117961         118300         123472   \n",
       "1       1     17183    1540         117961         118343         123125   \n",
       "2       1     36724   14457         118219         118220         117884   \n",
       "3       1     36135    5396         117961         118343         119993   \n",
       "4       1     42680    5905         117929         117930         119569   \n",
       "\n",
       "   ROLE_TITLE  ROLE_FAMILY_DESC  ROLE_FAMILY  ROLE_CODE  \n",
       "0      117905            117906       290919     117908  \n",
       "1      118536            118536       308574     118539  \n",
       "2      117879            267952        19721     117880  \n",
       "3      118321            240983       290919     118322  \n",
       "4      119323            123932        19793     119325  "
      ]
     },
     "execution_count": 7,
     "metadata": {},
     "output_type": "execute_result"
    }
   ],
   "source": [
    "df = pd.read_csv('../data/amazon.csv.gz')\n",
    "df.head()\n",
    "# ACTION - это целевой признак"
   ]
  },
  {
   "cell_type": "markdown",
   "metadata": {
    "colab_type": "text",
    "id": "PZ85weZTRk1n"
   },
   "source": [
    "Обратим внимание, что выборка не сбалансированная. В качестве метрики качества будем использовать [f1-score](https://en.wikipedia.org/wiki/F1_score). \n",
    "$$F_1 = 2 \\cdot \\frac{\\mathrm{precision} \\cdot \\mathrm{recall}}{\\mathrm{precision} + \\mathrm{recall}}$$\n",
    "\n",
    "$$precision = \\frac{TP}{TP+FP}$$\n",
    "\n",
    "$$recall = \\frac{TP}{TP+FN}$$"
   ]
  },
  {
   "cell_type": "code",
   "execution_count": 34,
   "metadata": {
    "colab": {
     "base_uri": "https://localhost:8080/",
     "height": 313
    },
    "colab_type": "code",
    "id": "geYOEvR5Rk1p",
    "outputId": "a4750a51-1c7d-4a82-d931-c13a8931a061"
   },
   "outputs": [
    {
     "name": "stdout",
     "output_type": "stream",
     "text": [
      "0.9421099209618847\n"
     ]
    },
    {
     "data": {
      "text/plain": [
       "<Axes: xlabel='ACTION', ylabel='count'>"
      ]
     },
     "execution_count": 34,
     "metadata": {},
     "output_type": "execute_result"
    },
    {
     "data": {
      "image/png": "[encoded data removed]",
      "text/plain": [
       "<Figure size 640x480 with 1 Axes>"
      ]
     },
     "metadata": {},
     "output_type": "display_data"
    }
   ],
   "source": [
    "print(df['ACTION'].mean())\n",
    "sns.countplot(x='ACTION', data=df)"
   ]
  },
  {
   "cell_type": "code",
   "execution_count": 9,
   "metadata": {
    "colab": {
     "base_uri": "https://localhost:8080/",
     "height": 187
    },
    "colab_type": "code",
    "id": "0esSU_9iRk1v",
    "outputId": "f97c558c-664a-4a65-b707-ff0e963cb3e3"
   },
   "outputs": [
    {
     "name": "stdout",
     "output_type": "stream",
     "text": [
      "ACTION 2\n",
      "RESOURCE 7518\n",
      "MGR_ID 4243\n",
      "ROLE_ROLLUP_1 128\n",
      "ROLE_ROLLUP_2 177\n",
      "ROLE_DEPTNAME 449\n",
      "ROLE_TITLE 343\n",
      "ROLE_FAMILY_DESC 2358\n",
      "ROLE_FAMILY 67\n",
      "ROLE_CODE 343\n"
     ]
    }
   ],
   "source": [
    "# число значений у признаков\n",
    "for col_name in df.columns:\n",
    "    print(col_name, len(df[col_name].unique()))"
   ]
  },
  {
   "cell_type": "code",
   "execution_count": 10,
   "metadata": {
    "colab": {},
    "colab_type": "code",
    "id": "grv_l7aYRk12"
   },
   "outputs": [],
   "source": [
    "X = df.drop(['ACTION'], axis=1)\n",
    "y = df['ACTION']\n",
    "X_train, X_test, y_train, y_test = train_test_split(X, y, random_state=42, test_size=0.8)"
   ]
  },
  {
   "cell_type": "markdown",
   "metadata": {
    "colab_type": "text",
    "id": "WF-Sqou3Rk19"
   },
   "source": [
    "# Baseline (4 балла)\n",
    "\n",
    "Сразу проверим как ведет себя kNN на неподготовленных данных и без тюнинга. Зафиксируйте `n_neighbors=5`, `p=2`. \n",
    "\n",
    "- создайте экземпляр `KNeighborsClassifier` с указанными параметрами, обучите его методом `fit` и предскажите значения `predict` для треничровчных данных `X_test`.\n",
    "- постройте отчет классификации (classification_report)\n",
    "- постройте confusion matrix и нарисуйте heatmap\n",
    "\n",
    "Обратите внимание на confusion matrix. Какой вывод вы можете сделать из неё? Вспомните лекцию и значение ошибок 1 и 2 рода."
   ]
  },
  {
   "cell_type": "code",
   "execution_count": 11,
   "metadata": {
    "colab": {},
    "colab_type": "code",
    "id": "b0VOmw-gRk2B"
   },
   "outputs": [
    {
     "name": "stdout",
     "output_type": "stream",
     "text": [
      "              precision    recall  f1-score   support\n",
      "\n",
      "           0       0.22      0.03      0.05      1534\n",
      "           1       0.94      0.99      0.97     24682\n",
      "\n",
      "    accuracy                           0.94     26216\n",
      "   macro avg       0.58      0.51      0.51     26216\n",
      "weighted avg       0.90      0.94      0.91     26216\n",
      "\n"
     ]
    },
    {
     "data": {
      "image/png": "[encoded data removed]",
      "text/plain": [
       "<Figure size 800x600 with 2 Axes>"
      ]
     },
     "metadata": {},
     "output_type": "display_data"
    }
   ],
   "source": [
    "knn = KNeighborsClassifier(n_neighbors=5, p=2)\n",
    "\n",
    "knn.fit(X_train, y_train)\n",
    "\n",
    "y_pred = knn.predict(X_test)\n",
    "\n",
    "print(classification_report(y_test, y_pred))\n",
    "\n",
    "cm = confusion_matrix(y_test, y_pred)\n",
    "\n",
    "plt.figure(figsize=(8, 6))\n",
    "sns.heatmap(cm, annot=True, fmt='d', cmap='Blues', xticklabels=['0', '1'], yticklabels=['0', '1'])\n",
    "plt.xlabel('Predicted')\n",
    "plt.ylabel('Actual')\n",
    "plt.title('Confusion Matrix')\n",
    "plt.show()"
   ]
  },
  {
   "cell_type": "markdown",
   "metadata": {
    "colab_type": "text",
    "id": "05W_1YtvRk2I"
   },
   "source": [
    "При фиксированном `n_neighbors=10` проверьте значение метрики на кроссвалидации на 5-фолдах для разных значений `p` из `(1,2,4,6)`. При каком значение `p` метрика достигает максимума?\n",
    "\n",
    "При кроссвалидации у вас будет получаться N разных значений метрики. Выводите среднее значение и стандартное отклонение."
   ]
  },
  {
   "cell_type": "code",
   "execution_count": 12,
   "metadata": {
    "colab": {},
    "colab_type": "code",
    "id": "eO5jV0YBuafJ"
   },
   "outputs": [
    {
     "name": "stdout",
     "output_type": "stream",
     "text": [
      "p=1: Mean F1-score = 0.9713, Std deviation = 0.0005\n",
      "p=2: Mean F1-score = 0.9715, Std deviation = 0.0004\n",
      "p=4: Mean F1-score = 0.9714, Std deviation = 0.0005\n",
      "p=6: Mean F1-score = 0.9713, Std deviation = 0.0003\n",
      "\n",
      "Наибольшее среднее значение F1-score достигается при p=2\n"
     ]
    }
   ],
   "source": [
    "p_values = [1, 2, 4, 6]\n",
    "n_neighbors = 10\n",
    "\n",
    "results = {}\n",
    "\n",
    "for p in p_values:\n",
    "    knn = KNeighborsClassifier(n_neighbors=n_neighbors, p=p)\n",
    "    scores = cross_val_score(knn, X_train, y_train, cv=5, scoring='f1')  # Используем F1-score как метрику\n",
    "    mean_score = np.mean(scores)\n",
    "    std_score = np.std(scores)\n",
    "    results[p] = (mean_score, std_score)\n",
    "    print(f\"p={p}: Mean F1-score = {mean_score:.4f}, Std deviation = {std_score:.4f}\")\n",
    "\n",
    "best_p = max(results, key=lambda k: results[k][0])\n",
    "print(f\"\\nНаибольшее среднее значение F1-score достигается при p={best_p}\")"
   ]
  },
  {
   "cell_type": "markdown",
   "metadata": {
    "colab_type": "text",
    "id": "95FbhY1JRk2S"
   },
   "source": [
    "# Счетчики (6 баллов)\n",
    "\n",
    "Очевидно, что предсказывать лейбл объекта, используя при этом метрический алгоритм на категориальных признаках - это ОЧЕНЬ странная затея. Не удивительно что качество ужасное. Необходимо каким-то образом заменить категориальные признаки вещественными:\n",
    "\n",
    "- OneHotEncoding - это когда для каждого признака создают другие N бинарных признаков, где N - это количество категорий у категориального признака.\n",
    "- Счетчики - об это написано в статье http://blogs.technet.com/b/machinelearning/archive/2015/02/17/big-learning-made-easy-with-counts.aspx.\n",
    "\n",
    "Мы реализуем алгоритм Счетчиков. Его нет в sklearn, поэтому придется реализовать самому. \n",
    "\n",
    "Для каждого категориального признака создайте 3 других признака:\n",
    "1. Число `counts` объектов в обучающей выборке с таким же значением признака.\n",
    "2. Число `successes` объектов первого класса ($y = 1$) в обучающей выборке с таким же значением признака.\n",
    "3. Сглаженное отношение двух предыдущих величин: (`successes` + 1) / (`counts` + 2).\n",
    "\n",
    "Поскольку признаки, содержащие информацию о целевой переменной, могут привести к переобучению, может оказаться полезным сделать *фолдинг*: разбить обучающую выборку на $n$ частей, и для $i$-й части считать `counts` и `successes` по всем остальным частям. Для тестовой выборки используются счетчики, посчитанные по всей обучающей выборке. Реализуйте и такой вариант. Можно использовать $n = 3$.\n",
    "\n",
    "Обучение надо проводить только по новым признакам. Изначальные мы не используем.\n",
    "\n",
    "Счетчики нужно считать по `train`, а в `test` использовать эти же счетчики, иначе счетчики будут содержать информацию о всем датасете что приведет к переобучение!\n",
    "\n",
    "Подсказка - вам нужно для каждой колонки посчитать 2 аггрегации - сумму и количество. Для замены конкретного значения посчитанным используйте функцию apply над датафреймом. Простое решение займет около 10 строк кода."
   ]
  },
  {
   "cell_type": "markdown",
   "metadata": {
    "colab_type": "text",
    "id": "peoX3U3iRk2U"
   },
   "source": [
    "![](http://images6.fanpop.com/image/photos/38600000/taiga-iamyourenemy-38620719-282-160.gif)"
   ]
  },
  {
   "cell_type": "code",
   "execution_count": 14,
   "metadata": {
    "colab": {},
    "colab_type": "code",
    "id": "qNzXCuFDWIOm"
   },
   "outputs": [],
   "source": [
    "data = pd.DataFrame(index=df.index)\n",
    "\n",
    "def calculate_counters(df, col_name, target, n_folds=3):\n",
    "    kf = KFold(n_splits=n_folds, shuffle=True, random_state=42)\n",
    "    \n",
    "    counts = np.zeros(len(df))\n",
    "    successes = np.zeros(len(df))\n",
    "    smoothed_ratio = np.zeros(len(df))\n",
    "    \n",
    "    for train_idx, val_idx in kf.split(df):\n",
    "        train_fold = df.iloc[train_idx]\n",
    "        val_fold = df.iloc[val_idx]\n",
    "        \n",
    "        aggregates = train_fold.groupby(col_name)[target].agg(['sum', 'count'])\n",
    "        \n",
    "        counts[val_idx] = val_fold[col_name].map(aggregates['count']).fillna(0)\n",
    "        successes[val_idx] = val_fold[col_name].map(aggregates['sum']).fillna(0)\n",
    "        smoothed_ratio[val_idx] = (successes[val_idx] + 1) / (counts[val_idx] + 2)\n",
    "    \n",
    "    return counts, successes, smoothed_ratio\n",
    "\n",
    "for col_name in df.columns:\n",
    "    if col_name == 'ACTION':\n",
    "        continue\n",
    "    counts, successes, smoothed_ratio = calculate_counters(df, col_name, 'ACTION')\n",
    "    \n",
    "    data[f'{col_name}_counts'] = counts\n",
    "    data[f'{col_name}_successes'] = successes\n",
    "    data[f'{col_name}_smoothed_ratio'] = smoothed_ratio\n",
    "\n",
    "X_train_new, X_test_new, y_train_new, y_test_new = train_test_split(\n",
    "    data.loc[X_train.index], y_train, random_state=42, test_size=0.8\n",
    ")"
   ]
  },
  {
   "cell_type": "markdown",
   "metadata": {
    "colab_type": "text",
    "id": "_LI0_45SRk2b"
   },
   "source": [
    "Проверьте какое качество теперь получается на кроссвалидации для новых данных."
   ]
  },
  {
   "cell_type": "code",
   "execution_count": 18,
   "metadata": {
    "colab": {},
    "colab_type": "code",
    "id": "a2Z4fuXKIfqX"
   },
   "outputs": [
    {
     "name": "stdout",
     "output_type": "stream",
     "text": [
      "Mean F1-score: 0.9623\n",
      "Std deviation: 0.0064\n"
     ]
    }
   ],
   "source": [
    "n_neighbors = 10\n",
    "p = 2 \n",
    "\n",
    "knn = KNeighborsClassifier(n_neighbors=n_neighbors, p=p)\n",
    "\n",
    "scores = cross_val_score(knn, X_train_new, y_train_new, cv=5, scoring='f1')\n",
    "\n",
    "mean_score = np.mean(scores)\n",
    "std_score = np.std(scores)\n",
    "\n",
    "print(f\"Mean F1-score: {mean_score:.4f}\")\n",
    "print(f\"Std deviation: {std_score:.4f}\")"
   ]
  },
  {
   "cell_type": "markdown",
   "metadata": {
    "colab_type": "text",
    "id": "sLAn1dmIRk2j"
   },
   "source": [
    "- постройте отчет классификации (classification_report)\n",
    "- постройте confusion matrix и нарисуйте heatmap\n",
    "\n",
    "Оцените на сколько улучшилось качество."
   ]
  },
  {
   "cell_type": "code",
   "execution_count": 19,
   "metadata": {},
   "outputs": [
    {
     "name": "stdout",
     "output_type": "stream",
     "text": [
      "              precision    recall  f1-score   support\n",
      "\n",
      "           0       0.08      0.02      0.03       279\n",
      "           1       0.95      0.99      0.97      4964\n",
      "\n",
      "    accuracy                           0.94      5243\n",
      "   macro avg       0.52      0.50      0.50      5243\n",
      "weighted avg       0.90      0.94      0.92      5243\n",
      "\n"
     ]
    },
    {
     "data": {
      "image/png": "[encoded data removed]",
      "text/plain": [
       "<Figure size 800x600 with 2 Axes>"
      ]
     },
     "metadata": {},
     "output_type": "display_data"
    },
    {
     "name": "stdout",
     "output_type": "stream",
     "text": [
      "Initial F1-score: 0.9677\n",
      "New F1-score: 0.9676\n",
      "Improvement: -0.0001\n"
     ]
    }
   ],
   "source": [
    "knn.fit(X_train_new, y_train_new)\n",
    "\n",
    "y_pred_new = knn.predict(X_test_new)\n",
    "\n",
    "print(classification_report(y_test_new, y_pred_new))\n",
    "\n",
    "cm_new = confusion_matrix(y_test_new, y_pred_new)\n",
    "\n",
    "plt.figure(figsize=(8, 6))\n",
    "sns.heatmap(cm_new, annot=True, fmt='d', cmap='Blues', xticklabels=['0', '1'], yticklabels=['0', '1'])\n",
    "plt.xlabel('Predicted')\n",
    "plt.ylabel('Actual')\n",
    "plt.title('Confusion Matrix')\n",
    "plt.show()\n",
    "\n",
    "initial_f1 = f1_score(y_test, y_pred)\n",
    "new_f1 = f1_score(y_test_new, y_pred_new)\n",
    "\n",
    "print(f\"Initial F1-score: {initial_f1:.4f}\")\n",
    "print(f\"New F1-score: {new_f1:.4f}\")\n",
    "print(f\"Improvement: {new_f1 - initial_f1:.4f}\")"
   ]
  },
  {
   "cell_type": "markdown",
   "metadata": {
    "colab_type": "text",
    "id": "xr0h7eJeRk2s"
   },
   "source": [
    "# Co-co-co-combo (5 баллов)\n",
    "\n",
    "Добавьте в исходную выборку парные признаки — то есть для каждой пары $(f_i, f_j)$, $i < j$ исходных категориальных признаков добавьте новый категориальный признак $f_{ij}$, значение которого является конкатенацией значений $f_i$ и $f_j$ (желательно через какой-нибудь специальный символ во избежание коллизий). Посчитайте счетчики для этой выборки, найдите качество метода $k$ ближайших соседей с наилучшим $k$ (с фолдингом и без)."
   ]
  },
  {
   "cell_type": "code",
   "execution_count": 23,
   "metadata": {
    "colab": {},
    "colab_type": "code",
    "id": "WX1unyFARk2t"
   },
   "outputs": [],
   "source": [
    "from itertools import combinations\n",
    "\n",
    "df_combo = df.copy()\n",
    "\n",
    "for col1, col2 in combinations(df.columns, 2):\n",
    "    if col1 == 'ACTION' or col2 == 'ACTION':\n",
    "        continue\n",
    "    df_combo[f'{col1}_{col2}'] = df[col1].astype(str) + '_' + df[col2].astype(str)"
   ]
  },
  {
   "cell_type": "code",
   "execution_count": 25,
   "metadata": {},
   "outputs": [],
   "source": [
    "import warnings\n",
    "warnings.filterwarnings('ignore')\n",
    "\n",
    "data_combo = pd.DataFrame(index=df_combo.index)\n",
    "\n",
    "for col_name in df_combo.columns:\n",
    "    if col_name == 'ACTION':\n",
    "        continue\n",
    "    counts, successes, smoothed_ratio = calculate_counters(df_combo, col_name, 'ACTION')\n",
    "    data_combo[f'{col_name}_counts'] = counts\n",
    "    data_combo[f'{col_name}_successes'] = successes\n",
    "    data_combo[f'{col_name}_smoothed_ratio'] = smoothed_ratio"
   ]
  },
  {
   "cell_type": "code",
   "execution_count": 26,
   "metadata": {},
   "outputs": [],
   "source": [
    "X_train_combo, X_test_combo, y_train_combo, y_test_combo = train_test_split(\n",
    "    data_combo.loc[X_train.index], y_train, random_state=42, test_size=0.8\n",
    ")"
   ]
  },
  {
   "cell_type": "code",
   "execution_count": 27,
   "metadata": {},
   "outputs": [
    {
     "name": "stdout",
     "output_type": "stream",
     "text": [
      "              precision    recall  f1-score   support\n",
      "\n",
      "           0       0.09      0.02      0.03       279\n",
      "           1       0.95      0.99      0.97      4964\n",
      "\n",
      "    accuracy                           0.94      5243\n",
      "   macro avg       0.52      0.50      0.50      5243\n",
      "weighted avg       0.90      0.94      0.92      5243\n",
      "\n"
     ]
    }
   ],
   "source": [
    "knn = KNeighborsClassifier(n_neighbors=n_neighbors, p=p)\n",
    "knn.fit(X_train_combo, y_train_combo)\n",
    "\n",
    "y_pred_combo = knn.predict(X_test_combo)\n",
    "\n",
    "print(classification_report(y_test_combo, y_pred_combo))"
   ]
  },
  {
   "cell_type": "code",
   "execution_count": 28,
   "metadata": {},
   "outputs": [
    {
     "data": {
      "image/png": "[encoded data removed]",
      "text/plain": [
       "<Figure size 800x600 with 2 Axes>"
      ]
     },
     "metadata": {},
     "output_type": "display_data"
    }
   ],
   "source": [
    "cm_combo = confusion_matrix(y_test_combo, y_pred_combo)\n",
    "\n",
    "plt.figure(figsize=(8, 6))\n",
    "sns.heatmap(cm_combo, annot=True, fmt='d', cmap='Blues', xticklabels=['0', '1'], yticklabels=['0', '1'])\n",
    "plt.xlabel('Predicted')\n",
    "plt.ylabel('Actual')\n",
    "plt.title('Confusion Matrix')\n",
    "plt.show()"
   ]
  },
  {
   "cell_type": "code",
   "execution_count": 29,
   "metadata": {},
   "outputs": [
    {
     "name": "stdout",
     "output_type": "stream",
     "text": [
      "Combo F1-score: 0.9678\n"
     ]
    }
   ],
   "source": [
    "combo_f1 = f1_score(y_test_combo, y_pred_combo)\n",
    "print(f\"Combo F1-score: {combo_f1:.4f}\")"
   ]
  },
  {
   "cell_type": "markdown",
   "metadata": {
    "colab_type": "text",
    "id": "jNGOU4pBRk24"
   },
   "source": [
    "- постройте отчет классификации (classification_report)\n",
    "- постройте confusion matrix и нарисуйте heatmap\n",
    "\n",
    "Оцените на сколько улучшилось качество. Не похоже ли это на переобусение?\n",
    "\n",
    "Внимание! Обучение на этом этапе может быть долгим. На i5 16GB кроссвалидация на 5 фолдах заняла 30 минут!"
   ]
  },
  {
   "cell_type": "code",
   "execution_count": 30,
   "metadata": {},
   "outputs": [
    {
     "name": "stdout",
     "output_type": "stream",
     "text": [
      "              precision    recall  f1-score   support\n",
      "\n",
      "           0       0.09      0.02      0.03       279\n",
      "           1       0.95      0.99      0.97      4964\n",
      "\n",
      "    accuracy                           0.94      5243\n",
      "   macro avg       0.52      0.50      0.50      5243\n",
      "weighted avg       0.90      0.94      0.92      5243\n",
      "\n"
     ]
    },
    {
     "data": {
      "image/png": "[encoded data removed]",
      "text/plain": [
       "<Figure size 800x600 with 2 Axes>"
      ]
     },
     "metadata": {},
     "output_type": "display_data"
    },
    {
     "name": "stdout",
     "output_type": "stream",
     "text": [
      "Initial F1-score: 0.9677\n",
      "New F1-score: 0.9678\n",
      "Improvement: 0.0001\n",
      "Переобучение маловероятно.\n"
     ]
    }
   ],
   "source": [
    "knn.fit(X_train_combo, y_train_combo)\n",
    "y_pred_combo = knn.predict(X_test_combo)\n",
    "\n",
    "print(classification_report(y_test_combo, y_pred_combo))\n",
    "\n",
    "cm_combo = confusion_matrix(y_test_combo, y_pred_combo)\n",
    "\n",
    "plt.figure(figsize=(8, 6))\n",
    "sns.heatmap(cm_combo, annot=True, fmt='d', cmap='Blues', xticklabels=['0', '1'], yticklabels=['0', '1'])\n",
    "plt.xlabel('Predicted')\n",
    "plt.ylabel('Actual')\n",
    "plt.title('Confusion Matrix')\n",
    "plt.show()\n",
    "\n",
    "initial_f1 = f1_score(y_test, y_pred)\n",
    "new_f1 = f1_score(y_test_combo, y_pred_combo)\n",
    "\n",
    "print(f\"Initial F1-score: {initial_f1:.4f}\")\n",
    "print(f\"New F1-score: {new_f1:.4f}\")\n",
    "print(f\"Improvement: {new_f1 - initial_f1:.4f}\")\n",
    "\n",
    "if new_f1 - initial_f1 > 0.1:\n",
    "    print(\"Возможно, модель переобучена.\")\n",
    "else:\n",
    "    print(\"Переобучение маловероятно.\")"
   ]
  },
  {
   "cell_type": "markdown",
   "metadata": {
    "colab_type": "text",
    "id": "YfXcVDbhjQLC"
   },
   "source": [
    "# Target encoding\n",
    "Допустим, у нас есть категоральный признак х и целевой у; нужно сгруппировать значения признака х по значениям признака у и посчитать среднее. Затем все значения из х заменяем на среднее по соответствующему у.\n",
    "\n",
    "\n",
    "Подробнее написано в статье: https://maxhalford.github.io/blog/target-encoding/\n"
   ]
  },
  {
   "cell_type": "code",
   "execution_count": 31,
   "metadata": {
    "colab": {},
    "colab_type": "code",
    "id": "DDUvy30ldaKK"
   },
   "outputs": [],
   "source": [
    "df_target = df.copy()"
   ]
  },
  {
   "cell_type": "code",
   "execution_count": 32,
   "metadata": {
    "colab": {},
    "colab_type": "code",
    "id": "S9BBzsGdWyJ1"
   },
   "outputs": [
    {
     "name": "stdout",
     "output_type": "stream",
     "text": [
      "              precision    recall  f1-score   support\n",
      "\n",
      "           0       0.78      0.64      0.70      1534\n",
      "           1       0.98      0.99      0.98     24682\n",
      "\n",
      "    accuracy                           0.97     26216\n",
      "   macro avg       0.88      0.81      0.84     26216\n",
      "weighted avg       0.97      0.97      0.97     26216\n",
      "\n"
     ]
    },
    {
     "data": {
      "image/png": "[encoded data removed]",
      "text/plain": [
       "<Figure size 800x600 with 2 Axes>"
      ]
     },
     "metadata": {},
     "output_type": "display_data"
    },
    {
     "name": "stdout",
     "output_type": "stream",
     "text": [
      "Initial F1-score: 0.9677\n",
      "Target Encoding F1-score: 0.9832\n",
      "Improvement: 0.0156\n",
      "Переобучение маловероятно.\n"
     ]
    }
   ],
   "source": [
    "data_target = pd.DataFrame(index=df_target.index)\n",
    "for col_name in df_target.columns:\n",
    "    if col_name == 'ACTION':\n",
    "        continue\n",
    "    target_means = df_target.groupby(col_name)['ACTION'].mean()\n",
    "    \n",
    "    data_target[f'{col_name}_target_encoded'] = df_target[col_name].map(target_means)\n",
    "\n",
    "X_train_target, X_test_target, y_train_target, y_test_target = train_test_split(\n",
    "    data_target, df_target['ACTION'], random_state=42, test_size=0.8\n",
    ")\n",
    "\n",
    "knn = KNeighborsClassifier(n_neighbors=n_neighbors, p=p)\n",
    "knn.fit(X_train_target, y_train_target)\n",
    "\n",
    "y_pred_target = knn.predict(X_test_target)\n",
    "\n",
    "print(classification_report(y_test_target, y_pred_target))\n",
    "\n",
    "cm_target = confusion_matrix(y_test_target, y_pred_target)\n",
    "\n",
    "plt.figure(figsize=(8, 6))\n",
    "sns.heatmap(cm_target, annot=True, fmt='d', cmap='Blues', xticklabels=['0', '1'], yticklabels=['0', '1'])\n",
    "plt.xlabel('Predicted')\n",
    "plt.ylabel('Actual')\n",
    "plt.title('Confusion Matrix')\n",
    "plt.show()\n",
    "\n",
    "initial_f1 = f1_score(y_test, y_pred)\n",
    "target_f1 = f1_score(y_test_target, y_pred_target)\n",
    "\n",
    "print(f\"Initial F1-score: {initial_f1:.4f}\")\n",
    "print(f\"Target Encoding F1-score: {target_f1:.4f}\")\n",
    "print(f\"Improvement: {target_f1 - initial_f1:.4f}\")\n",
    "\n",
    "if target_f1 - initial_f1 > 0.1:\n",
    "    print(\"Возможно, модель переобучена.\")\n",
    "else:\n",
    "    print(\"Переобучение маловероятно.\")"
   ]
  },
  {
   "cell_type": "markdown",
   "metadata": {
    "colab_type": "text",
    "id": "XT2_pUdiiaVk"
   },
   "source": [
    "Сравните результаты. \n",
    "\n",
    "Какой недостаток есть у target encoding?"
   ]
  },
  {
   "cell_type": "markdown",
   "metadata": {},
   "source": [
    "### Исходная модель (kNN на категориальных признаках):\n",
    "\n",
    "- F1-score: 0.9715\n",
    "\n",
    "Качество высокое, но это может быть связано с тем, что метрические алгоритмы (например, kNN) плохо работают с категориальными признаками без их преобразования. Высокий F1-score может быть результатом особенностей данных или случайного совпадения.\n",
    "\n",
    "### Счетчики (Count Encoding):\n",
    "\n",
    "- F1-score: 0.9676\n",
    "\n",
    "Качество немного снизилось по сравнению с исходной моделью. Это может быть связано с тем, что счетчики, хотя и преобразуют категориальные признаки в вещественные, не всегда сохраняют всю необходимую информацию для улучшения предсказательной способности модели.\n",
    "\n",
    "### Комбинированные признаки (Combo Encoding):\n",
    "\n",
    "- F1-score: 0.9678\n",
    "\n",
    "Качество практически не изменилось по сравнению со счетчиками. Это может указывать на то, что добавление комбинированных признаков не привело к значительному улучшению модели, возможно, из-за избыточности или шума в новых признаках.\n",
    "\n",
    "### Target Encoding:\n",
    "\n",
    "- F1-score: 0.9832\n",
    "\n",
    "Качество значительно улучшилось по сравнению с другими методами. Это связано с тем, что target encoding напрямую использует информацию о целевой переменной, что позволяет лучше учитывать взаимосвязи между признаками и целевой переменной. Однако такой высокий F1-score может вызывать подозрения на переобучение, особенно если target encoding был применен без использования фолдинга или других методов для предотвращения утечки данных.\n",
    "\n",
    "## Недостатки Target Encoding:\n",
    "### Риск переобучения:\n",
    "\n",
    "Target encoding использует информацию о целевой переменной для кодирования признаков. Это может привести к утечке данных (data leakage), особенно если кодирование выполняется до разделения на обучающую и тестовую выборки. В результате модель может показать слишком оптимистичные результаты на обучающих данных, но плохо обобщаться на новые данные.\n",
    "\n",
    "### Зависимость от распределения целевой переменной:\n",
    "\n",
    "Если в данных есть редкие категории, их кодирование может быть ненадежным из-за малого количества примеров. Это может привести к шуму в данных и ухудшению качества модели.\n",
    "\n",
    "### Необходимость осторожного применения:\n",
    "\n",
    "Target encoding требует аккуратного использования, например, применения фолдинга (как в случае со счетчиками) для предотвращения утечки данных. Это усложняет процесс подготовки данных.\n",
    "\n",
    "### Потеря интерпретируемости:\n",
    "\n",
    "После target encoding исходные категориальные признаки заменяются на вещественные числа, что может затруднить интерпретацию модели."
   ]
  }
 ],
 "metadata": {
  "colab": {
   "collapsed_sections": [],
   "name": "without_code03_hw_classification .ipynb",
   "provenance": []
  },
  "kernelspec": {
   "display_name": "Python 3 (ipykernel)",
   "language": "python",
   "name": "python3"
  },
  "language_info": {
   "codemirror_mode": {
    "name": "ipython",
    "version": 3
   },
   "file_extension": ".py",
   "mimetype": "text/x-python",
   "name": "python",
   "nbconvert_exporter": "python",
   "pygments_lexer": "ipython3",
   "version": "3.10.12"
  }
 },
 "nbformat": 4,
 "nbformat_minor": 4
}
