{
 "cells": [
  {
   "cell_type": "markdown",
   "metadata": {
    "id": "lvOZpUL1f23a"
   },
   "source": [
    "# Ансамбли моделей\n",
    "## Предисловие\n",
    "Как Вы уже знаете, модели МО можно использовать не только \"как есть\", но ещё и строить разнообразные надстройки над ними. Хорошей идеей такой надстройки было и остаётся объединение моделей в ансамбль.\n",
    "\n",
    "Сама суть ансамблей заключается в том, чтобы объединить предсказания стандартных моделей для повышения обощающей способности или надёжности ансамбля перед одиночным стандартным методом МО.\n",
    "\n",
    "Ансамбли делятся на два типа:\n",
    "\n",
    "- Голосующие (или усредняющие) - смысл их заключается в том, чтобы сначала обучить независимые друг от друга модели, а затем голосованием этих моделей выбирать предсказание (или усреднять предсказания по всем моделям, зависит от задачи). Обычно, качество предсказания у ансамблей лучше потому, что у них понижена дисперсия.\n",
    "\n",
    "    Примеры: [Бэггинг](https://scikit-learn.org/stable/modules/ensemble.html#bagging), [Случайный лес](https://scikit-learn.org/stable/modules/ensemble.html#forest)\n",
    "\n",
    "- Бустинг-ансамбли - последовательности стандартных моделей, построенные так, чтобы каждая последующая добавленная и натренированная модель каким-то образом исправляла ошибки всей предшествующей ей последовательности моделей. \"Объединение слабых моделей даёт сильную модель\".\n",
    "\n",
    "    Примеры: [AdaBoost](https://scikit-learn.org/stable/modules/ensemble.html#adaboost), [Градиентный бустинг](https://scikit-learn.org/stable/modules/ensemble.html#gradient-boosting)\n",
    "\n",
    "Полная [документация](https://scikit-learn.org/stable/modules/classes.html#module-sklearn.ensemble) по доступным в sklearn ансамблям.\n",
    "[Урок](https://habr.com/ru/company/ods/blog/327250/) про бустинг из курса хабра.\n"
   ]
  },
  {
   "cell_type": "markdown",
   "metadata": {
    "id": "xPOeDE6kuMRd"
   },
   "source": [
    "## Задача\n",
    "На этом воркшопе мы будем реализовывать алгоритм градиентного бустинга. Напомню, что в общем смысле бустинг заключается в том, чтобы тренировать каждую последующую модель так, чтобы она исправляла ошибки предыдущих.\n",
    "\n",
    "Прежде чем мы приступим к реализации, давайте вспомним, как он устроен:\n",
    "Краткое описание [оригинального алгоритма](https://statweb.stanford.edu/~jhf/ftp/stobst.pdf) (который придумал Фридман):\n",
    "Для работы алгоритма помимо данных нужно подать:\n",
    "1. количество итераций $M \\in \\mathbb{N}$;\n",
    "2. функцию потерь $L(y,f)$, где $y$ - истинные значения, $f$ - полученная аппроксимация искомой функции (в данном случае это будет не функция, а просто предсказанные значения).\n",
    "Важно, чтобы функция потерь была дифференцируемой по $f$;\n",
    "3. базовая модель, на основе которой мы будем делать бустинг - в данном воркшопе мы воспользуемся деревьями решений;\n",
    "4. Начальное приближение $f_0(x)$ - чаще всего для этого используют некую константу.\n",
    "\n",
    "**Сам алгоритм:**\n",
    "1. Задаём начальное приближение функции $f(x) = f_0(x)$ константой - в данном случае можно выбрать ноль, среднее по столбцу с целевым признаком или что-нибудь ещё.\n",
    "2. Далее итеративно $t$ от 1 до $M$: \n",
    "    1. Считаем остатки как $\\large r_{t} = -\\left[\\frac{\\partial L(y, f(x))}{\\partial f(x)}\\right]_{f(x)=\\hat{f}(x)}$\n",
    "    2. Обучаем ещё одну базовую модель $h_t(x)$, при этом нецелевыми признаками у нас будет $x$, а в качестве целевого будем использовать остатки $r_t$, полученные на текущем шаге\n",
    "    3. Найти оптимальный коэффициент $\\rho_t = \\underset{\\rho}{\\arg\\min} \\ L(y, \\hat{f}(x) + \\rho \\cdot h(x))$ \n",
    "    4. обновить текущее приближение $\\hat{f}(x) \\leftarrow \\hat{f}(x) + \\hat{f}_i(x)$, где $\\hat{f}_i(x) = \\rho_t \\cdot h_t(x)$\n",
    "3. Собрать все полученные базовые алгоритмы в модель $\\hat{f}(x) = \\sum_{i = 0}^M \\hat{f_i}(x)$\n",
    "\n",
    "**Функции потерь:**\n",
    "- $L(y, f) = (y - f)^2$ - L2-loss. Используйте его если считаете, что у модели нет никаких дополнительных требований к стабильности.\n",
    "- $L(y, f) = |y - f|$ - L1-loss. Применять при требованиях к стабильности модели. Из минусов можно выделить то, что её немного сложнее дифференцировать (придётся искать производные на разных кусках)\n",
    "- $\\begin{equation} L(y, f) =\\left\\{ \\begin{array}{@{}ll@{}} (1 - \\alpha) \\cdot |y - f|, & \\text{if}\\ y-f \\leq 0 \\\\ \\alpha \\cdot |y - f|, & \\text{if}\\ y-f >0 \\end{array}\\right. \\end{equation}, \\alpha \\in (0,1)$ - Lq-loss. Применять при наличии особых требований к модели, например, когда нам нужно восстановить не среднее и не медиану условного распределения $(y|x)$, а какую-нибудь квантиль. Штрафует наблюдения, попадающие выше $\\alpha$-той квантили.\n",
    "\n",
    "**Замечание:**\n",
    "1. коэффициенты $\\rho_i$ искать не обязательно, их можно считать равными единице\n",
    "2. функций потерь для регрессии бывает 3 вида, Вам достаточно реализовать хотя бы одну из них (конечно, будет здорово, если вы реализуете их все) и посчитать для неё градиент, тоже в виде функции."
   ]
  },
  {
   "cell_type": "markdown",
   "metadata": {
    "id": "FFQvLM09s-h3"
   },
   "source": [
    "## Реализация алгоритма\n",
    "\n",
    "Как обычно, сначала импортируем всё, что нам нужно."
   ]
  },
  {
   "cell_type": "code",
   "execution_count": 24,
   "metadata": {
    "id": "U_l5Vz59KWtL"
   },
   "outputs": [],
   "source": [
    "import numpy as np\n",
    "import pandas as pd\n",
    "import seaborn as sns\n",
    "from matplotlib import pyplot as plt\n",
    "from sklearn.tree import DecisionTreeRegressor"
   ]
  },
  {
   "cell_type": "markdown",
   "metadata": {
    "id": "WAHLwjJis8S9"
   },
   "source": [
    "Теперь реализуйте функции потерь. Как я писал ранее, достаточно реализовать L2 loss или одну любую другую. Остальные - как дополнительное задание. Описания даны выше."
   ]
  },
  {
   "cell_type": "code",
   "execution_count": 25,
   "metadata": {
    "id": "C7o43E1QwGqW"
   },
   "outputs": [],
   "source": [
    "def l2_loss(y_real, y_predicted):\n",
    "    return np.mean((y_real - y_predicted) ** 2)\n",
    "\n",
    "\n",
    "def l2_loss_gradient(y_real, y_predicted):\n",
    "    return 2 * (y_real - y_predicted)\n",
    "\n",
    "\n",
    "def l1_loss(y_real, y_predicted):\n",
    "    return np.mean(np.abs(y_real - y_predicted))\n",
    "\n",
    "\n",
    "def l1_loss_gradient(y_real, y_predicted):\n",
    "    return np.sign(y_predicted - y_real)\n",
    "\n",
    "\n",
    "def lq_loss(y_real, y_predicted):\n",
    "    residuals = y_real - y_predicted\n",
    "    loss = np.where(\n",
    "        residuals <= 0, (1 - alpha) * np.abs(residuals), alpha * np.abs(residuals)\n",
    "    )\n",
    "    return np.mean(loss)\n",
    "\n",
    "\n",
    "def lq_loss_gradient(y_real, y_predicted):\n",
    "    residuals = y_real - y_predicted\n",
    "    gradient = np.where(residuals <= 0, -(1 - alpha), -alpha)\n",
    "    return gradient"
   ]
  },
  {
   "cell_type": "markdown",
   "metadata": {
    "id": "zhMtSWwUtS86"
   },
   "source": [
    "Здесь мы просто упакуем функции в словарь, чтобы можно было передавать имя функции в алгоритм строкой."
   ]
  },
  {
   "cell_type": "code",
   "execution_count": 26,
   "metadata": {
    "id": "6mDM1iApGxc9"
   },
   "outputs": [],
   "source": [
    "losses = {\n",
    "    \"l2\": (l2_loss, l2_loss_gradient),\n",
    "    \"l1\": (l1_loss, l1_loss_gradient),\n",
    "    \"lq\": (lq_loss, lq_loss_gradient),\n",
    "}"
   ]
  },
  {
   "cell_type": "markdown",
   "metadata": {
    "id": "F2gn8mkitdkM"
   },
   "source": [
    "### Теперь приступим к реализации самого алгоритма. \n",
    "\n",
    "**Описание полей класса:**\n",
    "\n",
    "- `GradientTreeBoosting.estimators` - список, в котором мы будем хранить обученные деревья;\n",
    "- `GradientTreeBoosting.tree_kwargs` - параметры конструктора для деревьев, такие как глубина дерева, max features, и т.д. Подробнее в [документации](https://scikit-learn.org/stable/modules/generated/sklearn.tree.DecisionTreeRegressor.html#sklearn.tree.DecisionTreeRegressor);\n",
    "- `GradientTreeBoosting.iteration` - $M$ из формул выше - количество итераций бустинга, и, одновременно, количество моделей, которые мы построим и объединим в ансамбль в результате бустинга;\n",
    "- `GradientTreeBoosting.loss` - функция потерь;\n",
    "- `GradientTreeBoosting.loss_grad` - градиент этой функции потерь.\n",
    "\n",
    "Методы `fit` и `predict` с таким же назначением, как мы и раньше писали.\n",
    "\n",
    "В методе `fit` Вам надо будет строить деревья, не забудьте передать им `tree_kwards` в качестве параметров конструктора. \n",
    "\n",
    "Обратите внимание, что по-умолчанию в качестве функции потерь указан l2-loss. Если вы его не реализовали, то измените на что-нибудь другое(или каждый раз указывайте явно или напишите try-except-блок)."
   ]
  },
  {
   "cell_type": "code",
   "execution_count": 27,
   "metadata": {
    "id": "7j5kRdQzia0c"
   },
   "outputs": [],
   "source": [
    "class GradientTreeBoosting:\n",
    "    def __init__(self, loss=\"l2\", iterations=10, **tree_kwargs):\n",
    "        self.estimators = []\n",
    "        self.tree_kwargs = tree_kwargs\n",
    "        self.iterations = iterations\n",
    "        self.loss, self.loss_grad = losses.get(loss)\n",
    "\n",
    "    def fit(self, x, y):\n",
    "        for t in range(1, self.iterations + 1):\n",
    "            predicted_y = np.zeros(x.shape[0])\n",
    "\n",
    "            for e in self.estimators:\n",
    "                predicted_y += e.predict(x)\n",
    "\n",
    "            residuals = self.loss_grad(y, predicted_y)\n",
    "\n",
    "            tree = DecisionTreeRegressor(**self.tree_kwargs)\n",
    "            tree.fit(x, residuals)\n",
    "            self.estimators.append(tree)\n",
    "\n",
    "    def predict(self, x):\n",
    "        predictions = np.zeros(x.shape[0])\n",
    "\n",
    "        for e in self.estimators:\n",
    "            predictions += e.predict(x)\n",
    "\n",
    "        return predictions"
   ]
  },
  {
   "cell_type": "markdown",
   "metadata": {
    "id": "-dYkkmqKtjah"
   },
   "source": [
    "### Проверка на игрушечном примере\n",
    "\n",
    "Сгенерируем выборку на основе косинуса и проверим, на сколько хорошо бустинг деревьев справится с этой задачей. Сравнивать будем с обычным деревом с такими же параметрами."
   ]
  },
  {
   "cell_type": "code",
   "execution_count": 28,
   "metadata": {
    "colab": {
     "base_uri": "https://localhost:8080/",
     "height": 445
    },
    "id": "Wk5tNuOGX6Xx",
    "outputId": "aef1f2eb-7d58-42b7-ee86-55a9ce50a857"
   },
   "outputs": [
    {
     "data": {
      "text/plain": [
       "<Axes: >"
      ]
     },
     "execution_count": 28,
     "metadata": {},
     "output_type": "execute_result"
    },
    {
     "data": {
      "image/png": "[encoded data removed]",
      "text/plain": [
       "<Figure size 1000x700 with 1 Axes>"
      ]
     },
     "metadata": {},
     "output_type": "display_data"
    }
   ],
   "source": [
    "# генерируем данные\n",
    "np.random.seed(42)\n",
    "x = np.random.uniform(low=-2 * np.pi, high=2 * np.pi, size=(300))\n",
    "y = np.cos(x) + np.random.randn(300) * 0.2\n",
    "\n",
    "# обучаем обычное дерево глубины 3\n",
    "tree = DecisionTreeRegressor(max_depth=3, random_state=42)\n",
    "tree.fit(x.reshape(-1, 1), y)\n",
    "\n",
    "# обучаем наш бустинг-ансамбль\n",
    "clf = GradientTreeBoosting(iterations=3, max_depth=3, random_state=42)\n",
    "clf.fit(x.reshape(-1, 1), y)\n",
    "\n",
    "# визуализация\n",
    "plt.figure(figsize=(10, 7))\n",
    "sns.scatterplot(x=x, y=y, label=\"original data\")\n",
    "sns.scatterplot(x=x, y=clf.predict(x.reshape(-1, 1)), label=\"boosting\")\n",
    "sns.scatterplot(x=x, y=tree.predict(x.reshape(-1, 1)), label=\"tree\")"
   ]
  },
  {
   "cell_type": "markdown",
   "metadata": {
    "id": "NhhVDno3Peup"
   },
   "source": [
    "### Бустинг на практике: прогнозирование оттока пользователей из мобильной сети\n",
    "\n",
    "Будем решать задачу классификации (sic!), предсказывая, уйдёт ли пользователь мобильной сети или нет.\n",
    "Взято [отсюда](https://www.kaggle.com/mnassrib/telecom-churn-datasets).\n",
    "\n",
    "Данные и их типы: \n",
    "- State: string\n",
    "- Account length: integer \n",
    "- Area code: integer\n",
    "- International plan: string\n",
    "- Voice mail plan: string\n",
    "- Number vmail messages: integer\n",
    "- Total day minutes: double\n",
    "- Total day calls: integer\n",
    "- Total day charge: double\n",
    "- Total eve minutes: double\n",
    "- Total eve calls: integer\n",
    "- Total eve charge: double\n",
    "- Total night minutes: double\n",
    "- Total night calls: integer\n",
    "- Total night charge: double\n",
    "- Total intl minutes: double\n",
    "- Total intl calls: integer\n",
    "- Total intl charge: double\n",
    "- Customer service calls: integer\n",
    "- Churn: string - целевой признак - уйдёт или нет (на самом деле pandas понимает его как булев)\n",
    "\n",
    "Предсказывать будем логиты, то есть вероятность того, что клиент уйдёт, и на основе её уже делать прогноз, уйдёт ли он на самом деле или нет.\n",
    "\n",
    "Вам предстоит самостоятельно провести эксперимент. Сравните качество нашей бустинг модели с обычными методами МО (вспомните и подумайте, какие лучше).\n",
    "\n",
    "В качестве метрики качества используйте `f1_score` (а ещё лучше, `classification_report`)."
   ]
  },
  {
   "cell_type": "markdown",
   "metadata": {
    "id": "wzxc8HxaOFFJ"
   },
   "source": [
    "#### Загрузите данные и предобработайте их.\n",
    "\n",
    "Разбейте данные на тренировочную и тестовую подвыборки.\n",
    "\n",
    "Поскольку деревья из sklearn не поддерживают категориальные признаки Вам придётся решить эту проблему - удалить их или обработать известными нам способами (one-hot-encoding, счётчики и тп).\n",
    "\n",
    "В описании к датасету предполагалось использовать больший датасет(churn-bigml-80.csv) для обучения, а меньший(churn-bigml-20.csv) для проверки. "
   ]
  },
  {
   "cell_type": "code",
   "execution_count": 29,
   "metadata": {
    "scrolled": true
   },
   "outputs": [
    {
     "name": "stdout",
     "output_type": "stream",
     "text": [
      "Requirement already satisfied: kagglehub in /home/le-moski/Documents/FEFU/7S/ML/02-ml-advanced/.venv/lib/python3.10/site-packages (0.3.7)\n",
      "Requirement already satisfied: model-signing in /home/le-moski/Documents/FEFU/7S/ML/02-ml-advanced/.venv/lib/python3.10/site-packages (from kagglehub) (0.2.0)\n",
      "Requirement already satisfied: tqdm in /home/le-moski/Documents/FEFU/7S/ML/02-ml-advanced/.venv/lib/python3.10/site-packages (from kagglehub) (4.67.1)\n",
      "Requirement already satisfied: packaging in /home/le-moski/Documents/FEFU/7S/ML/02-ml-advanced/.venv/lib/python3.10/site-packages (from kagglehub) (24.2)\n",
      "Requirement already satisfied: requests in /home/le-moski/Documents/FEFU/7S/ML/02-ml-advanced/.venv/lib/python3.10/site-packages (from kagglehub) (2.32.3)\n",
      "Requirement already satisfied: sigstore in /home/le-moski/Documents/FEFU/7S/ML/02-ml-advanced/.venv/lib/python3.10/site-packages (from model-signing->kagglehub) (3.6.1)\n",
      "Requirement already satisfied: cryptography in /home/le-moski/Documents/FEFU/7S/ML/02-ml-advanced/.venv/lib/python3.10/site-packages (from model-signing->kagglehub) (44.0.1)\n",
      "Requirement already satisfied: typing-extensions in /home/le-moski/Documents/FEFU/7S/ML/02-ml-advanced/.venv/lib/python3.10/site-packages (from model-signing->kagglehub) (4.12.2)\n",
      "Requirement already satisfied: in-toto-attestation in /home/le-moski/Documents/FEFU/7S/ML/02-ml-advanced/.venv/lib/python3.10/site-packages (from model-signing->kagglehub) (0.9.3)\n",
      "Requirement already satisfied: urllib3<3,>=1.21.1 in /home/le-moski/Documents/FEFU/7S/ML/02-ml-advanced/.venv/lib/python3.10/site-packages (from requests->kagglehub) (2.3.0)\n",
      "Requirement already satisfied: certifi>=2017.4.17 in /home/le-moski/Documents/FEFU/7S/ML/02-ml-advanced/.venv/lib/python3.10/site-packages (from requests->kagglehub) (2025.1.31)\n",
      "Requirement already satisfied: idna<4,>=2.5 in /home/le-moski/Documents/FEFU/7S/ML/02-ml-advanced/.venv/lib/python3.10/site-packages (from requests->kagglehub) (3.10)\n",
      "Requirement already satisfied: charset-normalizer<4,>=2 in /home/le-moski/Documents/FEFU/7S/ML/02-ml-advanced/.venv/lib/python3.10/site-packages (from requests->kagglehub) (3.4.1)\n",
      "Requirement already satisfied: cffi>=1.12 in /home/le-moski/Documents/FEFU/7S/ML/02-ml-advanced/.venv/lib/python3.10/site-packages (from cryptography->model-signing->kagglehub) (1.17.1)\n",
      "Requirement already satisfied: protobuf in /home/le-moski/Documents/FEFU/7S/ML/02-ml-advanced/.venv/lib/python3.10/site-packages (from in-toto-attestation->model-signing->kagglehub) (5.29.3)\n",
      "Requirement already satisfied: rich~=13.0 in /home/le-moski/Documents/FEFU/7S/ML/02-ml-advanced/.venv/lib/python3.10/site-packages (from sigstore->model-signing->kagglehub) (13.9.4)\n",
      "Requirement already satisfied: rfc8785~=0.1.2 in /home/le-moski/Documents/FEFU/7S/ML/02-ml-advanced/.venv/lib/python3.10/site-packages (from sigstore->model-signing->kagglehub) (0.1.4)\n",
      "Requirement already satisfied: pyasn1~=0.6 in /home/le-moski/Documents/FEFU/7S/ML/02-ml-advanced/.venv/lib/python3.10/site-packages (from sigstore->model-signing->kagglehub) (0.6.1)\n",
      "Requirement already satisfied: sigstore-protobuf-specs==0.3.2 in /home/le-moski/Documents/FEFU/7S/ML/02-ml-advanced/.venv/lib/python3.10/site-packages (from sigstore->model-signing->kagglehub) (0.3.2)\n",
      "Requirement already satisfied: pydantic<3,>=2 in /home/le-moski/Documents/FEFU/7S/ML/02-ml-advanced/.venv/lib/python3.10/site-packages (from sigstore->model-signing->kagglehub) (2.10.6)\n",
      "Requirement already satisfied: rfc3161-client~=0.1.2 in /home/le-moski/Documents/FEFU/7S/ML/02-ml-advanced/.venv/lib/python3.10/site-packages (from sigstore->model-signing->kagglehub) (0.1.2)\n",
      "Requirement already satisfied: sigstore-rekor-types==0.0.18 in /home/le-moski/Documents/FEFU/7S/ML/02-ml-advanced/.venv/lib/python3.10/site-packages (from sigstore->model-signing->kagglehub) (0.0.18)\n",
      "Requirement already satisfied: pyjwt>=2.1 in /home/le-moski/Documents/FEFU/7S/ML/02-ml-advanced/.venv/lib/python3.10/site-packages (from sigstore->model-signing->kagglehub) (2.10.1)\n",
      "Requirement already satisfied: platformdirs~=4.2 in /home/le-moski/Documents/FEFU/7S/ML/02-ml-advanced/.venv/lib/python3.10/site-packages (from sigstore->model-signing->kagglehub) (4.3.6)\n",
      "Requirement already satisfied: importlib_resources~=5.7 in /home/le-moski/Documents/FEFU/7S/ML/02-ml-advanced/.venv/lib/python3.10/site-packages (from sigstore->model-signing->kagglehub) (5.13.0)\n",
      "Requirement already satisfied: pyOpenSSL>=23.0.0 in /home/le-moski/Documents/FEFU/7S/ML/02-ml-advanced/.venv/lib/python3.10/site-packages (from sigstore->model-signing->kagglehub) (25.0.0)\n",
      "Requirement already satisfied: tuf~=5.0 in /home/le-moski/Documents/FEFU/7S/ML/02-ml-advanced/.venv/lib/python3.10/site-packages (from sigstore->model-signing->kagglehub) (5.1.0)\n",
      "Requirement already satisfied: id>=1.1.0 in /home/le-moski/Documents/FEFU/7S/ML/02-ml-advanced/.venv/lib/python3.10/site-packages (from sigstore->model-signing->kagglehub) (1.5.0)\n",
      "Requirement already satisfied: betterproto==2.0.0b6 in /home/le-moski/Documents/FEFU/7S/ML/02-ml-advanced/.venv/lib/python3.10/site-packages (from sigstore-protobuf-specs==0.3.2->sigstore->model-signing->kagglehub) (2.0.0b6)\n",
      "Requirement already satisfied: grpclib<0.5.0,>=0.4.1 in /home/le-moski/Documents/FEFU/7S/ML/02-ml-advanced/.venv/lib/python3.10/site-packages (from betterproto==2.0.0b6->sigstore-protobuf-specs==0.3.2->sigstore->model-signing->kagglehub) (0.4.7)\n",
      "Requirement already satisfied: python-dateutil<3.0,>=2.8 in /home/le-moski/Documents/FEFU/7S/ML/02-ml-advanced/.venv/lib/python3.10/site-packages (from betterproto==2.0.0b6->sigstore-protobuf-specs==0.3.2->sigstore->model-signing->kagglehub) (2.9.0.post0)\n",
      "Requirement already satisfied: pycparser in /home/le-moski/Documents/FEFU/7S/ML/02-ml-advanced/.venv/lib/python3.10/site-packages (from cffi>=1.12->cryptography->model-signing->kagglehub) (2.22)\n",
      "Requirement already satisfied: pydantic-core==2.27.2 in /home/le-moski/Documents/FEFU/7S/ML/02-ml-advanced/.venv/lib/python3.10/site-packages (from pydantic<3,>=2->sigstore->model-signing->kagglehub) (2.27.2)\n",
      "Requirement already satisfied: annotated-types>=0.6.0 in /home/le-moski/Documents/FEFU/7S/ML/02-ml-advanced/.venv/lib/python3.10/site-packages (from pydantic<3,>=2->sigstore->model-signing->kagglehub) (0.7.0)\n",
      "Requirement already satisfied: markdown-it-py>=2.2.0 in /home/le-moski/Documents/FEFU/7S/ML/02-ml-advanced/.venv/lib/python3.10/site-packages (from rich~=13.0->sigstore->model-signing->kagglehub) (3.0.0)\n",
      "Requirement already satisfied: pygments<3.0.0,>=2.13.0 in /home/le-moski/Documents/FEFU/7S/ML/02-ml-advanced/.venv/lib/python3.10/site-packages (from rich~=13.0->sigstore->model-signing->kagglehub) (2.19.1)\n",
      "Requirement already satisfied: securesystemslib~=1.0 in /home/le-moski/Documents/FEFU/7S/ML/02-ml-advanced/.venv/lib/python3.10/site-packages (from tuf~=5.0->sigstore->model-signing->kagglehub) (1.2.0)\n",
      "Requirement already satisfied: mdurl~=0.1 in /home/le-moski/Documents/FEFU/7S/ML/02-ml-advanced/.venv/lib/python3.10/site-packages (from markdown-it-py>=2.2.0->rich~=13.0->sigstore->model-signing->kagglehub) (0.1.2)\n",
      "Requirement already satisfied: email-validator>=2.0.0 in /home/le-moski/Documents/FEFU/7S/ML/02-ml-advanced/.venv/lib/python3.10/site-packages (from pydantic<3,>=2->sigstore->model-signing->kagglehub) (2.2.0)\n",
      "Requirement already satisfied: dnspython>=2.0.0 in /home/le-moski/Documents/FEFU/7S/ML/02-ml-advanced/.venv/lib/python3.10/site-packages (from email-validator>=2.0.0->pydantic<3,>=2->sigstore->model-signing->kagglehub) (2.7.0)\n",
      "Requirement already satisfied: h2<5,>=3.1.0 in /home/le-moski/Documents/FEFU/7S/ML/02-ml-advanced/.venv/lib/python3.10/site-packages (from grpclib<0.5.0,>=0.4.1->betterproto==2.0.0b6->sigstore-protobuf-specs==0.3.2->sigstore->model-signing->kagglehub) (4.2.0)\n",
      "Requirement already satisfied: multidict in /home/le-moski/Documents/FEFU/7S/ML/02-ml-advanced/.venv/lib/python3.10/site-packages (from grpclib<0.5.0,>=0.4.1->betterproto==2.0.0b6->sigstore-protobuf-specs==0.3.2->sigstore->model-signing->kagglehub) (6.1.0)\n",
      "Requirement already satisfied: six>=1.5 in /home/le-moski/Documents/FEFU/7S/ML/02-ml-advanced/.venv/lib/python3.10/site-packages (from python-dateutil<3.0,>=2.8->betterproto==2.0.0b6->sigstore-protobuf-specs==0.3.2->sigstore->model-signing->kagglehub) (1.17.0)\n",
      "Requirement already satisfied: hpack<5,>=4.1 in /home/le-moski/Documents/FEFU/7S/ML/02-ml-advanced/.venv/lib/python3.10/site-packages (from h2<5,>=3.1.0->grpclib<0.5.0,>=0.4.1->betterproto==2.0.0b6->sigstore-protobuf-specs==0.3.2->sigstore->model-signing->kagglehub) (4.1.0)\n",
      "Requirement already satisfied: hyperframe<7,>=6.1 in /home/le-moski/Documents/FEFU/7S/ML/02-ml-advanced/.venv/lib/python3.10/site-packages (from h2<5,>=3.1.0->grpclib<0.5.0,>=0.4.1->betterproto==2.0.0b6->sigstore-protobuf-specs==0.3.2->sigstore->model-signing->kagglehub) (6.1.0)\n",
      "Note: you may need to restart the kernel to use updated packages.\n",
      "Path to dataset files: /home/le-moski/.cache/kagglehub/datasets/mnassrib/telecom-churn-datasets/versions/1\n"
     ]
    }
   ],
   "source": [
    "%pip install kagglehub\n",
    "\n",
    "import kagglehub\n",
    "\n",
    "path = kagglehub.dataset_download(\"mnassrib/telecom-churn-datasets\")\n",
    "\n",
    "print(\"Path to dataset files:\", path)"
   ]
  },
  {
   "cell_type": "code",
   "execution_count": 30,
   "metadata": {
    "id": "LO6LafYuDPBY"
   },
   "outputs": [],
   "source": [
    "from sklearn.compose import ColumnTransformer\n",
    "from sklearn.impute import SimpleImputer\n",
    "from sklearn.model_selection import train_test_split\n",
    "from sklearn.pipeline import Pipeline\n",
    "from sklearn.preprocessing import OneHotEncoder\n",
    "\n",
    "train_data = pd.read_csv(f\"{path}/churn-bigml-80.csv\")\n",
    "test_data = pd.read_csv(f\"{path}/churn-bigml-20.csv\")\n",
    "\n",
    "X_train = train_data.drop(columns=[\"Churn\"])\n",
    "y_train = train_data[\"Churn\"]\n",
    "X_test = test_data.drop(columns=[\"Churn\"])\n",
    "y_test = test_data[\"Churn\"]\n",
    "\n",
    "categorical_features = [\"State\", \"International plan\", \"Voice mail plan\"]\n",
    "numeric_features = X_train.columns.difference(categorical_features)\n",
    "\n",
    "preprocessor = ColumnTransformer(\n",
    "    transformers=[\n",
    "        (\"num\", SimpleImputer(strategy=\"mean\"), numeric_features),\n",
    "        (\"cat\", OneHotEncoder(), categorical_features),\n",
    "    ]\n",
    ")\n",
    "\n",
    "X_train_processed = preprocessor.fit_transform(X_train)\n",
    "X_test_processed = preprocessor.transform(X_test)"
   ]
  },
  {
   "cell_type": "code",
   "execution_count": 31,
   "metadata": {},
   "outputs": [
    {
     "name": "stderr",
     "output_type": "stream",
     "text": [
      "/home/le-moski/Documents/FEFU/7S/ML/02-ml-advanced/.venv/lib/python3.10/site-packages/sklearn/linear_model/_logistic.py:465: ConvergenceWarning: lbfgs failed to converge (status=1):\n",
      "STOP: TOTAL NO. OF ITERATIONS REACHED LIMIT.\n",
      "\n",
      "Increase the number of iterations (max_iter) or scale the data as shown in:\n",
      "    https://scikit-learn.org/stable/modules/preprocessing.html\n",
      "Please also refer to the documentation for alternative solver options:\n",
      "    https://scikit-learn.org/stable/modules/linear_model.html#logistic-regression\n",
      "  n_iter_i = _check_optimize_result(\n"
     ]
    },
    {
     "name": "stdout",
     "output_type": "stream",
     "text": [
      "Logistic Regression F1 Score: 0.302158273381295\n",
      "              precision    recall  f1-score   support\n",
      "\n",
      "       False       0.88      0.96      0.92       572\n",
      "        True       0.48      0.22      0.30        95\n",
      "\n",
      "    accuracy                           0.85       667\n",
      "   macro avg       0.68      0.59      0.61       667\n",
      "weighted avg       0.82      0.85      0.83       667\n",
      "\n",
      "Random Forest F1 Score: 0.7483870967741936\n",
      "              precision    recall  f1-score   support\n",
      "\n",
      "       False       0.94      1.00      0.97       572\n",
      "        True       0.97      0.61      0.75        95\n",
      "\n",
      "    accuracy                           0.94       667\n",
      "   macro avg       0.95      0.80      0.86       667\n",
      "weighted avg       0.94      0.94      0.94       667\n",
      "\n",
      "Gradient Boosting F1 Score: 0.7928994082840237\n",
      "              precision    recall  f1-score   support\n",
      "\n",
      "       False       0.95      0.99      0.97       572\n",
      "        True       0.91      0.71      0.79        95\n",
      "\n",
      "    accuracy                           0.95       667\n",
      "   macro avg       0.93      0.85      0.88       667\n",
      "weighted avg       0.95      0.95      0.94       667\n",
      "\n",
      "Custom Gradient Tree Boosting F1 Score: 0.8222222222222222\n",
      "              precision    recall  f1-score   support\n",
      "\n",
      "       False       0.96      0.98      0.97       572\n",
      "        True       0.87      0.78      0.82        95\n",
      "\n",
      "    accuracy                           0.95       667\n",
      "   macro avg       0.92      0.88      0.90       667\n",
      "weighted avg       0.95      0.95      0.95       667\n",
      "\n"
     ]
    }
   ],
   "source": [
    "from sklearn.linear_model import LogisticRegression\n",
    "from sklearn.ensemble import RandomForestClassifier, GradientBoostingClassifier\n",
    "from sklearn.metrics import f1_score, classification_report\n",
    "\n",
    "# logreg\n",
    "logreg = LogisticRegression(random_state=42, max_iter=5000)\n",
    "logreg.fit(X_train_processed, y_train)\n",
    "y_pred_logreg = logreg.predict(X_test_processed)\n",
    "print(\"Logistic Regression F1 Score:\", f1_score(y_test, y_pred_logreg))\n",
    "print(classification_report(y_test, y_pred_logreg))\n",
    "\n",
    "# rf\n",
    "rf = RandomForestClassifier(random_state=42)\n",
    "rf.fit(X_train_processed, y_train)\n",
    "y_pred_rf = rf.predict(X_test_processed)\n",
    "print(\"Random Forest F1 Score:\", f1_score(y_test, y_pred_rf))\n",
    "print(classification_report(y_test, y_pred_rf))\n",
    "\n",
    "# grad boost\n",
    "gb = GradientBoostingClassifier(random_state=42)\n",
    "gb.fit(X_train_processed, y_train)\n",
    "y_pred_gb = gb.predict(X_test_processed)\n",
    "print(\"Gradient Boosting F1 Score:\", f1_score(y_test, y_pred_gb))\n",
    "print(classification_report(y_test, y_pred_gb))\n",
    "\n",
    "# grad tboost\n",
    "gtb = GradientTreeBoosting(iterations=5, max_depth=5, random_state=42)\n",
    "gtb.fit(X_train_processed, y_train)\n",
    "y_pred_gtb = gtb.predict(X_test_processed) > 0.5\n",
    "print(\"Custom Gradient Tree Boosting F1 Score:\", f1_score(y_test, y_pred_gtb))\n",
    "print(classification_report(y_test, y_pred_gtb))"
   ]
  },
  {
   "cell_type": "markdown",
   "metadata": {
    "id": "eBktZHUJBRgp"
   },
   "source": [
    "Здесь я немного помогу Вам. Функция `test_qual` позволяет проверить качество классификации без лишних телодвижений. Воспользуйтесь ей (если хотите, можете модифицировать как Вам удобно). В исходном виде она не подойдёт для финальной проверки (на разных датасетах), но вы можете сделать промежуточные выводы на её основе."
   ]
  },
  {
   "cell_type": "code",
   "execution_count": 32,
   "metadata": {
    "id": "UB9ICK9v5UYB"
   },
   "outputs": [],
   "source": [
    "def decide_class(logits, threshold=0.5):\n",
    "    res = np.zeros(logits.shape[0])\n",
    "    res[logits >= threshold] = 1\n",
    "    return res\n",
    "\n",
    "\n",
    "def test_qual(model, X, y, test_size=0.2, threshold=0.5):\n",
    "    from sklearn.metrics import classification_report\n",
    "    from sklearn.model_selection import train_test_split\n",
    "\n",
    "    X_train, X_test, y_train, y_test = train_test_split(\n",
    "        X, y, test_size=test_size, shuffle=True, random_state=42\n",
    "    )\n",
    "\n",
    "    model.fit(X_train, y_train)\n",
    "    test_logits = model.predict(X_test)\n",
    "    y_pred = decide_class(test_logits, threshold=threshold)\n",
    "\n",
    "    # print(accuracy_score(y_test, y_pred))\n",
    "    print(classification_report(y_test, y_pred))"
   ]
  },
  {
   "cell_type": "code",
   "execution_count": 33,
   "metadata": {},
   "outputs": [
    {
     "name": "stdout",
     "output_type": "stream",
     "text": [
      "Logistic Regression:\n"
     ]
    },
    {
     "name": "stderr",
     "output_type": "stream",
     "text": [
      "/home/le-moski/Documents/FEFU/7S/ML/02-ml-advanced/.venv/lib/python3.10/site-packages/sklearn/linear_model/_logistic.py:465: ConvergenceWarning: lbfgs failed to converge (status=1):\n",
      "STOP: TOTAL NO. OF ITERATIONS REACHED LIMIT.\n",
      "\n",
      "Increase the number of iterations (max_iter) or scale the data as shown in:\n",
      "    https://scikit-learn.org/stable/modules/preprocessing.html\n",
      "Please also refer to the documentation for alternative solver options:\n",
      "    https://scikit-learn.org/stable/modules/linear_model.html#logistic-regression\n",
      "  n_iter_i = _check_optimize_result(\n"
     ]
    },
    {
     "name": "stdout",
     "output_type": "stream",
     "text": [
      "              precision    recall  f1-score   support\n",
      "\n",
      "       False       0.88      0.95      0.91       455\n",
      "        True       0.46      0.23      0.31        79\n",
      "\n",
      "    accuracy                           0.85       534\n",
      "   macro avg       0.67      0.59      0.61       534\n",
      "weighted avg       0.82      0.85      0.82       534\n",
      "\n",
      "Random Forest:\n",
      "              precision    recall  f1-score   support\n",
      "\n",
      "       False       0.93      1.00      0.97       455\n",
      "        True       1.00      0.58      0.74        79\n",
      "\n",
      "    accuracy                           0.94       534\n",
      "   macro avg       0.97      0.79      0.85       534\n",
      "weighted avg       0.94      0.94      0.93       534\n",
      "\n",
      "Gradient Boosting:\n",
      "              precision    recall  f1-score   support\n",
      "\n",
      "       False       0.96      0.99      0.97       455\n",
      "        True       0.94      0.73      0.82        79\n",
      "\n",
      "    accuracy                           0.95       534\n",
      "   macro avg       0.95      0.86      0.90       534\n",
      "weighted avg       0.95      0.95      0.95       534\n",
      "\n",
      "Custom Gradient Tree Boosting:\n",
      "              precision    recall  f1-score   support\n",
      "\n",
      "       False       0.94      0.97      0.95       455\n",
      "        True       0.78      0.63      0.70        79\n",
      "\n",
      "    accuracy                           0.92       534\n",
      "   macro avg       0.86      0.80      0.83       534\n",
      "weighted avg       0.92      0.92      0.92       534\n",
      "\n"
     ]
    }
   ],
   "source": [
    "logreg = LogisticRegression(random_state=42, max_iter=5000)\n",
    "print(\"Logistic Regression:\")\n",
    "test_qual(logreg, X_train_processed, y_train)\n",
    "\n",
    "rf = RandomForestClassifier(random_state=42)\n",
    "print(\"Random Forest:\")\n",
    "test_qual(rf, X_train_processed, y_train)\n",
    "\n",
    "gb = GradientBoostingClassifier(random_state=42)\n",
    "print(\"Gradient Boosting:\")\n",
    "test_qual(gb, X_train_processed, y_train)\n",
    "\n",
    "gtb = GradientTreeBoosting(iterations=5, max_depth=5, random_state=42)\n",
    "print(\"Custom Gradient Tree Boosting:\")\n",
    "test_qual(gtb, X_train_processed, y_train)"
   ]
  }
 ],
 "metadata": {
  "colab": {
   "collapsed_sections": [],
   "name": "ensemble_models.ipynb",
   "provenance": []
  },
  "kernelspec": {
   "display_name": "Python 3 (ipykernel)",
   "language": "python",
   "name": "python3"
  },
  "language_info": {
   "codemirror_mode": {
    "name": "ipython",
    "version": 3
   },
   "file_extension": ".py",
   "mimetype": "text/x-python",
   "name": "python",
   "nbconvert_exporter": "python",
   "pygments_lexer": "ipython3",
   "version": "3.10.12"
  }
 },
 "nbformat": 4,
 "nbformat_minor": 4
}
